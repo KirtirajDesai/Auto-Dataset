{
 "cells": [
  {
   "cell_type": "markdown",
   "id": "13831f8d",
   "metadata": {},
   "source": [
    "## Import Libraries"
   ]
  },
  {
   "cell_type": "code",
   "execution_count": 114,
   "id": "a98438b1",
   "metadata": {},
   "outputs": [],
   "source": [
    "import pandas as pd \n",
    "import numpy as np \n",
    "import matplotlib.pyplot as plt \n",
    "import seaborn as sns \n",
    "\n",
    "from sklearn.model_selection import train_test_split,GridSearchCV, RandomizedSearchCV\n",
    "from sklearn.linear_model import LinearRegression, Lasso, Ridge\n",
    "from sklearn.metrics import mean_squared_error, mean_absolute_error, r2_score\n",
    "\n",
    "import pickle\n",
    "import json\n"
   ]
  },
  {
   "cell_type": "markdown",
   "id": "03914e5d",
   "metadata": {},
   "source": [
    "# Step 1: Problem Statement "
   ]
  },
  {
   "cell_type": "raw",
   "id": "06f6113d",
   "metadata": {},
   "source": [
    "To Predict the car price using below mentioned features \n",
    "'symboling', 'normalized-losses', 'make', 'fuel-type', 'aspiration',\n",
    "'num-of-doors', 'body-style', 'drive-wheels', 'engine-location',\n",
    "'wheel-base', 'length', 'width', 'height', 'curb-weight', 'engine-type',\n",
    "'num-of-cylinders', 'engine-size', 'fuel-system', 'bore', 'stroke',\n",
    "'compression-ratio', 'horsepower', 'peak-rpm', 'city-mpg',\n",
    "'highway-mpg'"
   ]
  },
  {
   "cell_type": "markdown",
   "id": "3058b2ed",
   "metadata": {},
   "source": [
    "# Step 2: Data Gathering "
   ]
  },
  {
   "cell_type": "code",
   "execution_count": 115,
   "id": "a9ade5ee",
   "metadata": {},
   "outputs": [
    {
     "data": {
      "text/html": [
       "<div>\n",
       "<style scoped>\n",
       "    .dataframe tbody tr th:only-of-type {\n",
       "        vertical-align: middle;\n",
       "    }\n",
       "\n",
       "    .dataframe tbody tr th {\n",
       "        vertical-align: top;\n",
       "    }\n",
       "\n",
       "    .dataframe thead th {\n",
       "        text-align: right;\n",
       "    }\n",
       "</style>\n",
       "<table border=\"1\" class=\"dataframe\">\n",
       "  <thead>\n",
       "    <tr style=\"text-align: right;\">\n",
       "      <th></th>\n",
       "      <th>0</th>\n",
       "      <th>1</th>\n",
       "      <th>2</th>\n",
       "      <th>3</th>\n",
       "      <th>4</th>\n",
       "    </tr>\n",
       "  </thead>\n",
       "  <tbody>\n",
       "    <tr>\n",
       "      <th>symboling</th>\n",
       "      <td>3</td>\n",
       "      <td>3</td>\n",
       "      <td>1</td>\n",
       "      <td>2</td>\n",
       "      <td>2</td>\n",
       "    </tr>\n",
       "    <tr>\n",
       "      <th>normalized-losses</th>\n",
       "      <td>?</td>\n",
       "      <td>?</td>\n",
       "      <td>?</td>\n",
       "      <td>164</td>\n",
       "      <td>164</td>\n",
       "    </tr>\n",
       "    <tr>\n",
       "      <th>make</th>\n",
       "      <td>alfa-romero</td>\n",
       "      <td>alfa-romero</td>\n",
       "      <td>alfa-romero</td>\n",
       "      <td>audi</td>\n",
       "      <td>audi</td>\n",
       "    </tr>\n",
       "    <tr>\n",
       "      <th>fuel-type</th>\n",
       "      <td>gas</td>\n",
       "      <td>gas</td>\n",
       "      <td>gas</td>\n",
       "      <td>gas</td>\n",
       "      <td>gas</td>\n",
       "    </tr>\n",
       "    <tr>\n",
       "      <th>aspiration</th>\n",
       "      <td>std</td>\n",
       "      <td>std</td>\n",
       "      <td>std</td>\n",
       "      <td>std</td>\n",
       "      <td>std</td>\n",
       "    </tr>\n",
       "    <tr>\n",
       "      <th>num-of-doors</th>\n",
       "      <td>two</td>\n",
       "      <td>two</td>\n",
       "      <td>two</td>\n",
       "      <td>four</td>\n",
       "      <td>four</td>\n",
       "    </tr>\n",
       "    <tr>\n",
       "      <th>body-style</th>\n",
       "      <td>convertible</td>\n",
       "      <td>convertible</td>\n",
       "      <td>hatchback</td>\n",
       "      <td>sedan</td>\n",
       "      <td>sedan</td>\n",
       "    </tr>\n",
       "    <tr>\n",
       "      <th>drive-wheels</th>\n",
       "      <td>rwd</td>\n",
       "      <td>rwd</td>\n",
       "      <td>rwd</td>\n",
       "      <td>fwd</td>\n",
       "      <td>4wd</td>\n",
       "    </tr>\n",
       "    <tr>\n",
       "      <th>engine-location</th>\n",
       "      <td>front</td>\n",
       "      <td>front</td>\n",
       "      <td>front</td>\n",
       "      <td>front</td>\n",
       "      <td>front</td>\n",
       "    </tr>\n",
       "    <tr>\n",
       "      <th>wheel-base</th>\n",
       "      <td>88.6</td>\n",
       "      <td>88.6</td>\n",
       "      <td>94.5</td>\n",
       "      <td>99.8</td>\n",
       "      <td>99.4</td>\n",
       "    </tr>\n",
       "    <tr>\n",
       "      <th>length</th>\n",
       "      <td>168.8</td>\n",
       "      <td>168.8</td>\n",
       "      <td>171.2</td>\n",
       "      <td>176.6</td>\n",
       "      <td>176.6</td>\n",
       "    </tr>\n",
       "    <tr>\n",
       "      <th>width</th>\n",
       "      <td>64.1</td>\n",
       "      <td>64.1</td>\n",
       "      <td>65.5</td>\n",
       "      <td>66.2</td>\n",
       "      <td>66.4</td>\n",
       "    </tr>\n",
       "    <tr>\n",
       "      <th>height</th>\n",
       "      <td>48.8</td>\n",
       "      <td>48.8</td>\n",
       "      <td>52.4</td>\n",
       "      <td>54.3</td>\n",
       "      <td>54.3</td>\n",
       "    </tr>\n",
       "    <tr>\n",
       "      <th>curb-weight</th>\n",
       "      <td>2548</td>\n",
       "      <td>2548</td>\n",
       "      <td>2823</td>\n",
       "      <td>2337</td>\n",
       "      <td>2824</td>\n",
       "    </tr>\n",
       "    <tr>\n",
       "      <th>engine-type</th>\n",
       "      <td>dohc</td>\n",
       "      <td>dohc</td>\n",
       "      <td>ohcv</td>\n",
       "      <td>ohc</td>\n",
       "      <td>ohc</td>\n",
       "    </tr>\n",
       "    <tr>\n",
       "      <th>num-of-cylinders</th>\n",
       "      <td>four</td>\n",
       "      <td>four</td>\n",
       "      <td>six</td>\n",
       "      <td>four</td>\n",
       "      <td>five</td>\n",
       "    </tr>\n",
       "    <tr>\n",
       "      <th>engine-size</th>\n",
       "      <td>130</td>\n",
       "      <td>130</td>\n",
       "      <td>152</td>\n",
       "      <td>109</td>\n",
       "      <td>136</td>\n",
       "    </tr>\n",
       "    <tr>\n",
       "      <th>fuel-system</th>\n",
       "      <td>mpfi</td>\n",
       "      <td>mpfi</td>\n",
       "      <td>mpfi</td>\n",
       "      <td>mpfi</td>\n",
       "      <td>mpfi</td>\n",
       "    </tr>\n",
       "    <tr>\n",
       "      <th>bore</th>\n",
       "      <td>3.47</td>\n",
       "      <td>3.47</td>\n",
       "      <td>2.68</td>\n",
       "      <td>3.19</td>\n",
       "      <td>3.19</td>\n",
       "    </tr>\n",
       "    <tr>\n",
       "      <th>stroke</th>\n",
       "      <td>2.68</td>\n",
       "      <td>2.68</td>\n",
       "      <td>3.47</td>\n",
       "      <td>3.4</td>\n",
       "      <td>3.4</td>\n",
       "    </tr>\n",
       "    <tr>\n",
       "      <th>compression-ratio</th>\n",
       "      <td>9.0</td>\n",
       "      <td>9.0</td>\n",
       "      <td>9.0</td>\n",
       "      <td>10.0</td>\n",
       "      <td>8.0</td>\n",
       "    </tr>\n",
       "    <tr>\n",
       "      <th>horsepower</th>\n",
       "      <td>111</td>\n",
       "      <td>111</td>\n",
       "      <td>154</td>\n",
       "      <td>102</td>\n",
       "      <td>115</td>\n",
       "    </tr>\n",
       "    <tr>\n",
       "      <th>peak-rpm</th>\n",
       "      <td>5000</td>\n",
       "      <td>5000</td>\n",
       "      <td>5000</td>\n",
       "      <td>5500</td>\n",
       "      <td>5500</td>\n",
       "    </tr>\n",
       "    <tr>\n",
       "      <th>city-mpg</th>\n",
       "      <td>21</td>\n",
       "      <td>21</td>\n",
       "      <td>19</td>\n",
       "      <td>24</td>\n",
       "      <td>18</td>\n",
       "    </tr>\n",
       "    <tr>\n",
       "      <th>highway-mpg</th>\n",
       "      <td>27</td>\n",
       "      <td>27</td>\n",
       "      <td>26</td>\n",
       "      <td>30</td>\n",
       "      <td>22</td>\n",
       "    </tr>\n",
       "    <tr>\n",
       "      <th>price</th>\n",
       "      <td>13495</td>\n",
       "      <td>16500</td>\n",
       "      <td>16500</td>\n",
       "      <td>13950</td>\n",
       "      <td>17450</td>\n",
       "    </tr>\n",
       "  </tbody>\n",
       "</table>\n",
       "</div>"
      ],
      "text/plain": [
       "                             0            1            2      3      4\n",
       "symboling                    3            3            1      2      2\n",
       "normalized-losses            ?            ?            ?    164    164\n",
       "make               alfa-romero  alfa-romero  alfa-romero   audi   audi\n",
       "fuel-type                  gas          gas          gas    gas    gas\n",
       "aspiration                 std          std          std    std    std\n",
       "num-of-doors               two          two          two   four   four\n",
       "body-style         convertible  convertible    hatchback  sedan  sedan\n",
       "drive-wheels               rwd          rwd          rwd    fwd    4wd\n",
       "engine-location          front        front        front  front  front\n",
       "wheel-base                88.6         88.6         94.5   99.8   99.4\n",
       "length                   168.8        168.8        171.2  176.6  176.6\n",
       "width                     64.1         64.1         65.5   66.2   66.4\n",
       "height                    48.8         48.8         52.4   54.3   54.3\n",
       "curb-weight               2548         2548         2823   2337   2824\n",
       "engine-type               dohc         dohc         ohcv    ohc    ohc\n",
       "num-of-cylinders          four         four          six   four   five\n",
       "engine-size                130          130          152    109    136\n",
       "fuel-system               mpfi         mpfi         mpfi   mpfi   mpfi\n",
       "bore                      3.47         3.47         2.68   3.19   3.19\n",
       "stroke                    2.68         2.68         3.47    3.4    3.4\n",
       "compression-ratio          9.0          9.0          9.0   10.0    8.0\n",
       "horsepower                 111          111          154    102    115\n",
       "peak-rpm                  5000         5000         5000   5500   5500\n",
       "city-mpg                    21           21           19     24     18\n",
       "highway-mpg                 27           27           26     30     22\n",
       "price                    13495        16500        16500  13950  17450"
      ]
     },
     "execution_count": 115,
     "metadata": {},
     "output_type": "execute_result"
    }
   ],
   "source": [
    "df = pd.read_csv('autos_dataset.csv')\n",
    "df.head().T"
   ]
  },
  {
   "cell_type": "markdown",
   "id": "8d8be086",
   "metadata": {},
   "source": [
    "# Step 3: EDA [Exploratory Data Analysis]"
   ]
  },
  {
   "cell_type": "code",
   "execution_count": 116,
   "id": "baf3e141",
   "metadata": {},
   "outputs": [
    {
     "name": "stdout",
     "output_type": "stream",
     "text": [
      "<class 'pandas.core.frame.DataFrame'>\n",
      "RangeIndex: 205 entries, 0 to 204\n",
      "Data columns (total 26 columns):\n",
      " #   Column             Non-Null Count  Dtype  \n",
      "---  ------             --------------  -----  \n",
      " 0   symboling          205 non-null    int64  \n",
      " 1   normalized-losses  205 non-null    object \n",
      " 2   make               205 non-null    object \n",
      " 3   fuel-type          205 non-null    object \n",
      " 4   aspiration         205 non-null    object \n",
      " 5   num-of-doors       205 non-null    object \n",
      " 6   body-style         205 non-null    object \n",
      " 7   drive-wheels       205 non-null    object \n",
      " 8   engine-location    205 non-null    object \n",
      " 9   wheel-base         205 non-null    float64\n",
      " 10  length             205 non-null    float64\n",
      " 11  width              205 non-null    float64\n",
      " 12  height             205 non-null    float64\n",
      " 13  curb-weight        205 non-null    int64  \n",
      " 14  engine-type        205 non-null    object \n",
      " 15  num-of-cylinders   205 non-null    object \n",
      " 16  engine-size        205 non-null    int64  \n",
      " 17  fuel-system        205 non-null    object \n",
      " 18  bore               205 non-null    object \n",
      " 19  stroke             205 non-null    object \n",
      " 20  compression-ratio  205 non-null    float64\n",
      " 21  horsepower         205 non-null    object \n",
      " 22  peak-rpm           205 non-null    object \n",
      " 23  city-mpg           205 non-null    int64  \n",
      " 24  highway-mpg        205 non-null    int64  \n",
      " 25  price              205 non-null    object \n",
      "dtypes: float64(5), int64(5), object(16)\n",
      "memory usage: 41.8+ KB\n"
     ]
    }
   ],
   "source": [
    "df.info()"
   ]
  },
  {
   "cell_type": "raw",
   "id": "2e91bba2",
   "metadata": {},
   "source": [
    "#   1. Data contains symbols \n",
    "#   2. Data contains object datatype =  []\n",
    "#   3. data distribution \n",
    "#   4. Outliers \n",
    "#   5. Assumptions "
   ]
  },
  {
   "cell_type": "code",
   "execution_count": 117,
   "id": "6ed16b5c",
   "metadata": {},
   "outputs": [
    {
     "name": "stdout",
     "output_type": "stream",
     "text": [
      "<class 'pandas.core.frame.DataFrame'>\n",
      "RangeIndex: 205 entries, 0 to 204\n",
      "Data columns (total 26 columns):\n",
      " #   Column             Non-Null Count  Dtype  \n",
      "---  ------             --------------  -----  \n",
      " 0   symboling          205 non-null    int64  \n",
      " 1   normalized-losses  205 non-null    object \n",
      " 2   make               205 non-null    object \n",
      " 3   fuel-type          205 non-null    object \n",
      " 4   aspiration         205 non-null    object \n",
      " 5   num-of-doors       205 non-null    object \n",
      " 6   body-style         205 non-null    object \n",
      " 7   drive-wheels       205 non-null    object \n",
      " 8   engine-location    205 non-null    object \n",
      " 9   wheel-base         205 non-null    float64\n",
      " 10  length             205 non-null    float64\n",
      " 11  width              205 non-null    float64\n",
      " 12  height             205 non-null    float64\n",
      " 13  curb-weight        205 non-null    int64  \n",
      " 14  engine-type        205 non-null    object \n",
      " 15  num-of-cylinders   205 non-null    object \n",
      " 16  engine-size        205 non-null    int64  \n",
      " 17  fuel-system        205 non-null    object \n",
      " 18  bore               205 non-null    object \n",
      " 19  stroke             205 non-null    object \n",
      " 20  compression-ratio  205 non-null    float64\n",
      " 21  horsepower         205 non-null    object \n",
      " 22  peak-rpm           205 non-null    object \n",
      " 23  city-mpg           205 non-null    int64  \n",
      " 24  highway-mpg        205 non-null    int64  \n",
      " 25  price              205 non-null    object \n",
      "dtypes: float64(5), int64(5), object(16)\n",
      "memory usage: 41.8+ KB\n"
     ]
    }
   ],
   "source": [
    "## After replacing ? with null values \n",
    "df.info()"
   ]
  },
  {
   "cell_type": "markdown",
   "id": "cc8c9f68",
   "metadata": {},
   "source": [
    "###  3.1 symboling"
   ]
  },
  {
   "cell_type": "code",
   "execution_count": 118,
   "id": "896cad8c",
   "metadata": {},
   "outputs": [
    {
     "data": {
      "text/plain": [
       "0      3\n",
       "1      3\n",
       "2      1\n",
       "3      2\n",
       "4      2\n",
       "      ..\n",
       "200   -1\n",
       "201   -1\n",
       "202   -1\n",
       "203   -1\n",
       "204   -1\n",
       "Name: symboling, Length: 205, dtype: int64"
      ]
     },
     "execution_count": 118,
     "metadata": {},
     "output_type": "execute_result"
    }
   ],
   "source": [
    "df['symboling']"
   ]
  },
  {
   "cell_type": "code",
   "execution_count": 119,
   "id": "b72cf231",
   "metadata": {},
   "outputs": [
    {
     "data": {
      "text/plain": [
       "array([ 3,  1,  2,  0, -1, -2], dtype=int64)"
      ]
     },
     "execution_count": 119,
     "metadata": {},
     "output_type": "execute_result"
    }
   ],
   "source": [
    "df['symboling'].unique()"
   ]
  },
  {
   "cell_type": "code",
   "execution_count": 120,
   "id": "c29264c4",
   "metadata": {},
   "outputs": [],
   "source": [
    "### Need confirmation discussion on this columns "
   ]
  },
  {
   "cell_type": "markdown",
   "id": "92328fe6",
   "metadata": {},
   "source": [
    "### 3.2 normalized-losses"
   ]
  },
  {
   "cell_type": "code",
   "execution_count": 121,
   "id": "24a847c1",
   "metadata": {},
   "outputs": [
    {
     "data": {
      "text/plain": [
       "0        ?\n",
       "1        ?\n",
       "2        ?\n",
       "3      164\n",
       "4      164\n",
       "      ... \n",
       "200     95\n",
       "201     95\n",
       "202     95\n",
       "203     95\n",
       "204     95\n",
       "Name: normalized-losses, Length: 205, dtype: object"
      ]
     },
     "execution_count": 121,
     "metadata": {},
     "output_type": "execute_result"
    }
   ],
   "source": [
    "df['normalized-losses']"
   ]
  },
  {
   "cell_type": "code",
   "execution_count": 122,
   "id": "dae6cf20",
   "metadata": {},
   "outputs": [
    {
     "data": {
      "text/plain": [
       "normalized-losses\n",
       "?      41\n",
       "161    11\n",
       "91      8\n",
       "150     7\n",
       "134     6\n",
       "128     6\n",
       "104     6\n",
       "85      5\n",
       "94      5\n",
       "65      5\n",
       "102     5\n",
       "74      5\n",
       "168     5\n",
       "103     5\n",
       "95      5\n",
       "106     4\n",
       "93      4\n",
       "118     4\n",
       "148     4\n",
       "122     4\n",
       "83      3\n",
       "125     3\n",
       "154     3\n",
       "115     3\n",
       "137     3\n",
       "101     3\n",
       "119     2\n",
       "87      2\n",
       "89      2\n",
       "192     2\n",
       "197     2\n",
       "158     2\n",
       "81      2\n",
       "188     2\n",
       "194     2\n",
       "153     2\n",
       "129     2\n",
       "108     2\n",
       "110     2\n",
       "164     2\n",
       "145     2\n",
       "113     2\n",
       "256     1\n",
       "107     1\n",
       "90      1\n",
       "231     1\n",
       "142     1\n",
       "121     1\n",
       "78      1\n",
       "98      1\n",
       "186     1\n",
       "77      1\n",
       "Name: count, dtype: int64"
      ]
     },
     "execution_count": 122,
     "metadata": {},
     "output_type": "execute_result"
    }
   ],
   "source": [
    "df['normalized-losses'].nunique()\n",
    "df['normalized-losses'].value_counts()\n"
   ]
  },
  {
   "cell_type": "code",
   "execution_count": 123,
   "id": "9b96ee84",
   "metadata": {},
   "outputs": [],
   "source": [
    "## this need to convert into int \n",
    "## Missing Values found >> Need to handle "
   ]
  },
  {
   "cell_type": "markdown",
   "id": "ef019e0a",
   "metadata": {},
   "source": [
    "### 3.3 make"
   ]
  },
  {
   "cell_type": "code",
   "execution_count": 124,
   "id": "49b42d7e",
   "metadata": {},
   "outputs": [
    {
     "data": {
      "text/plain": [
       "dtype('O')"
      ]
     },
     "execution_count": 124,
     "metadata": {},
     "output_type": "execute_result"
    }
   ],
   "source": [
    "df['make'].dtype"
   ]
  },
  {
   "cell_type": "code",
   "execution_count": 125,
   "id": "6c26ef0f",
   "metadata": {},
   "outputs": [
    {
     "data": {
      "text/plain": [
       "22"
      ]
     },
     "execution_count": 125,
     "metadata": {},
     "output_type": "execute_result"
    }
   ],
   "source": [
    "df['make'].nunique()"
   ]
  },
  {
   "cell_type": "code",
   "execution_count": 126,
   "id": "a4350b56",
   "metadata": {},
   "outputs": [
    {
     "data": {
      "text/plain": [
       "array(['alfa-romero', 'audi', 'bmw', 'chevrolet', 'dodge', 'honda',\n",
       "       'isuzu', 'jaguar', 'mazda', 'mercedes-benz', 'mercury',\n",
       "       'mitsubishi', 'nissan', 'peugot', 'plymouth', 'porsche', 'renault',\n",
       "       'saab', 'subaru', 'toyota', 'volkswagen', 'volvo'], dtype=object)"
      ]
     },
     "execution_count": 126,
     "metadata": {},
     "output_type": "execute_result"
    }
   ],
   "source": [
    "df['make'].unique() ### Nominal Categorical data found >> Solution :: One hot encoding "
   ]
  },
  {
   "cell_type": "markdown",
   "id": "5a4c1e5f",
   "metadata": {},
   "source": [
    "### 3.4 fuel-type"
   ]
  },
  {
   "cell_type": "code",
   "execution_count": 127,
   "id": "61a218ea",
   "metadata": {},
   "outputs": [
    {
     "data": {
      "text/plain": [
       "dtype('O')"
      ]
     },
     "execution_count": 127,
     "metadata": {},
     "output_type": "execute_result"
    }
   ],
   "source": [
    "df['fuel-type'].dtype"
   ]
  },
  {
   "cell_type": "code",
   "execution_count": 128,
   "id": "e3033880",
   "metadata": {},
   "outputs": [
    {
     "data": {
      "text/plain": [
       "2"
      ]
     },
     "execution_count": 128,
     "metadata": {},
     "output_type": "execute_result"
    }
   ],
   "source": [
    "df['fuel-type'].nunique()"
   ]
  },
  {
   "cell_type": "code",
   "execution_count": 129,
   "id": "7143495e",
   "metadata": {},
   "outputs": [
    {
     "data": {
      "text/plain": [
       "fuel-type\n",
       "gas       185\n",
       "diesel     20\n",
       "Name: count, dtype: int64"
      ]
     },
     "execution_count": 129,
     "metadata": {},
     "output_type": "execute_result"
    }
   ],
   "source": [
    "df['fuel-type'].value_counts()  ### Categorical [Nominal data]"
   ]
  },
  {
   "cell_type": "code",
   "execution_count": 130,
   "id": "b54a6687",
   "metadata": {},
   "outputs": [
    {
     "data": {
      "text/plain": [
       "{'gas': 185, 'diesel': 20}"
      ]
     },
     "execution_count": 130,
     "metadata": {},
     "output_type": "execute_result"
    }
   ],
   "source": [
    "df['fuel-type'].value_counts().to_dict()"
   ]
  },
  {
   "cell_type": "markdown",
   "id": "77f8f128",
   "metadata": {},
   "source": [
    "### 3.5 aspiration"
   ]
  },
  {
   "cell_type": "code",
   "execution_count": 131,
   "id": "8585198e",
   "metadata": {},
   "outputs": [
    {
     "data": {
      "text/plain": [
       "dtype('O')"
      ]
     },
     "execution_count": 131,
     "metadata": {},
     "output_type": "execute_result"
    }
   ],
   "source": [
    "df.aspiration.dtype"
   ]
  },
  {
   "cell_type": "code",
   "execution_count": 132,
   "id": "15932ab6",
   "metadata": {},
   "outputs": [
    {
     "data": {
      "text/plain": [
       "2"
      ]
     },
     "execution_count": 132,
     "metadata": {},
     "output_type": "execute_result"
    }
   ],
   "source": [
    "df.aspiration.nunique()"
   ]
  },
  {
   "cell_type": "code",
   "execution_count": 133,
   "id": "fbadfa70",
   "metadata": {},
   "outputs": [
    {
     "data": {
      "text/plain": [
       "aspiration\n",
       "std      168\n",
       "turbo     37\n",
       "Name: count, dtype: int64"
      ]
     },
     "execution_count": 133,
     "metadata": {},
     "output_type": "execute_result"
    }
   ],
   "source": [
    "df.aspiration.value_counts()  ### Categorical [Nominal]"
   ]
  },
  {
   "cell_type": "code",
   "execution_count": 134,
   "id": "599aa32a",
   "metadata": {},
   "outputs": [
    {
     "data": {
      "text/plain": [
       "{'std': 168, 'turbo': 37}"
      ]
     },
     "execution_count": 134,
     "metadata": {},
     "output_type": "execute_result"
    }
   ],
   "source": [
    "df.aspiration.value_counts().to_dict()"
   ]
  },
  {
   "cell_type": "markdown",
   "id": "84b2b041",
   "metadata": {},
   "source": [
    "# Step 4: Feature Engineering "
   ]
  },
  {
   "cell_type": "markdown",
   "id": "d8e17c40",
   "metadata": {},
   "source": [
    "##### replace questions mark (?) by null values "
   ]
  },
  {
   "cell_type": "code",
   "execution_count": 135,
   "id": "58f3669a",
   "metadata": {},
   "outputs": [],
   "source": [
    "df = df.replace({\"?\":np.nan})"
   ]
  },
  {
   "cell_type": "code",
   "execution_count": 136,
   "id": "55c678a9",
   "metadata": {},
   "outputs": [],
   "source": [
    "df['normalized-losses'] = df['normalized-losses'].astype(float)"
   ]
  },
  {
   "cell_type": "code",
   "execution_count": 137,
   "id": "d15e4be6",
   "metadata": {},
   "outputs": [
    {
     "data": {
      "text/plain": [
       "161.0"
      ]
     },
     "execution_count": 137,
     "metadata": {},
     "output_type": "execute_result"
    }
   ],
   "source": [
    "## Handling the missing values for  normalized-losses\n",
    "df['normalized-losses'].mean()\n",
    "df['normalized-losses'].median()\n",
    "df['normalized-losses'].mode()[0]\n"
   ]
  },
  {
   "cell_type": "code",
   "execution_count": 138,
   "id": "e7a9cee8",
   "metadata": {},
   "outputs": [
    {
     "data": {
      "text/plain": [
       "<Axes: xlabel='normalized-losses', ylabel='Density'>"
      ]
     },
     "execution_count": 138,
     "metadata": {},
     "output_type": "execute_result"
    },
    {
     "data": {
      "image/png": "[encoded data removed]",
      "text/plain": [
       "<Figure size 640x480 with 1 Axes>"
      ]
     },
     "metadata": {},
     "output_type": "display_data"
    }
   ],
   "source": [
    "sns.kdeplot(df['normalized-losses'])"
   ]
  },
  {
   "cell_type": "code",
   "execution_count": 139,
   "id": "d0ec62f6",
   "metadata": {},
   "outputs": [],
   "source": [
    "df['normalized-losses'].fillna(df['normalized-losses'].median(), inplace=True)"
   ]
  },
  {
   "cell_type": "code",
   "execution_count": 140,
   "id": "2109c6ca",
   "metadata": {},
   "outputs": [
    {
     "data": {
      "text/plain": [
       "0"
      ]
     },
     "execution_count": 140,
     "metadata": {},
     "output_type": "execute_result"
    }
   ],
   "source": [
    "df['normalized-losses'].isna().sum()"
   ]
  },
  {
   "cell_type": "code",
   "execution_count": 141,
   "id": "8eb7c749",
   "metadata": {},
   "outputs": [
    {
     "data": {
      "text/plain": [
       "dtype('float64')"
      ]
     },
     "execution_count": 141,
     "metadata": {},
     "output_type": "execute_result"
    }
   ],
   "source": [
    "df['normalized-losses'].dtype"
   ]
  },
  {
   "cell_type": "code",
   "execution_count": 142,
   "id": "22433381",
   "metadata": {},
   "outputs": [],
   "source": [
    "df['normalized-losses'] = df['normalized-losses'].astype(int)"
   ]
  },
  {
   "cell_type": "code",
   "execution_count": 143,
   "id": "e32e043c",
   "metadata": {},
   "outputs": [
    {
     "data": {
      "text/plain": [
       "dtype('int32')"
      ]
     },
     "execution_count": 143,
     "metadata": {},
     "output_type": "execute_result"
    }
   ],
   "source": [
    "df['normalized-losses'].dtype"
   ]
  },
  {
   "cell_type": "markdown",
   "id": "addaf360",
   "metadata": {},
   "source": [
    "### 4.3 make "
   ]
  },
  {
   "cell_type": "code",
   "execution_count": 144,
   "id": "6afb18cd",
   "metadata": {},
   "outputs": [],
   "source": [
    "df = pd.get_dummies(df,columns=['make'],dtype= int)"
   ]
  },
  {
   "cell_type": "code",
   "execution_count": 145,
   "id": "a14b0858",
   "metadata": {},
   "outputs": [
    {
     "name": "stdout",
     "output_type": "stream",
     "text": [
      "<class 'pandas.core.frame.DataFrame'>\n",
      "RangeIndex: 205 entries, 0 to 204\n",
      "Data columns (total 47 columns):\n",
      " #   Column              Non-Null Count  Dtype  \n",
      "---  ------              --------------  -----  \n",
      " 0   symboling           205 non-null    int64  \n",
      " 1   normalized-losses   205 non-null    int32  \n",
      " 2   fuel-type           205 non-null    object \n",
      " 3   aspiration          205 non-null    object \n",
      " 4   num-of-doors        203 non-null    object \n",
      " 5   body-style          205 non-null    object \n",
      " 6   drive-wheels        205 non-null    object \n",
      " 7   engine-location     205 non-null    object \n",
      " 8   wheel-base          205 non-null    float64\n",
      " 9   length              205 non-null    float64\n",
      " 10  width               205 non-null    float64\n",
      " 11  height              205 non-null    float64\n",
      " 12  curb-weight         205 non-null    int64  \n",
      " 13  engine-type         205 non-null    object \n",
      " 14  num-of-cylinders    205 non-null    object \n",
      " 15  engine-size         205 non-null    int64  \n",
      " 16  fuel-system         205 non-null    object \n",
      " 17  bore                201 non-null    object \n",
      " 18  stroke              201 non-null    object \n",
      " 19  compression-ratio   205 non-null    float64\n",
      " 20  horsepower          203 non-null    object \n",
      " 21  peak-rpm            203 non-null    object \n",
      " 22  city-mpg            205 non-null    int64  \n",
      " 23  highway-mpg         205 non-null    int64  \n",
      " 24  price               201 non-null    object \n",
      " 25  make_alfa-romero    205 non-null    int32  \n",
      " 26  make_audi           205 non-null    int32  \n",
      " 27  make_bmw            205 non-null    int32  \n",
      " 28  make_chevrolet      205 non-null    int32  \n",
      " 29  make_dodge          205 non-null    int32  \n",
      " 30  make_honda          205 non-null    int32  \n",
      " 31  make_isuzu          205 non-null    int32  \n",
      " 32  make_jaguar         205 non-null    int32  \n",
      " 33  make_mazda          205 non-null    int32  \n",
      " 34  make_mercedes-benz  205 non-null    int32  \n",
      " 35  make_mercury        205 non-null    int32  \n",
      " 36  make_mitsubishi     205 non-null    int32  \n",
      " 37  make_nissan         205 non-null    int32  \n",
      " 38  make_peugot         205 non-null    int32  \n",
      " 39  make_plymouth       205 non-null    int32  \n",
      " 40  make_porsche        205 non-null    int32  \n",
      " 41  make_renault        205 non-null    int32  \n",
      " 42  make_saab           205 non-null    int32  \n",
      " 43  make_subaru         205 non-null    int32  \n",
      " 44  make_toyota         205 non-null    int32  \n",
      " 45  make_volkswagen     205 non-null    int32  \n",
      " 46  make_volvo          205 non-null    int32  \n",
      "dtypes: float64(5), int32(23), int64(5), object(14)\n",
      "memory usage: 57.0+ KB\n"
     ]
    }
   ],
   "source": [
    "df.info()"
   ]
  },
  {
   "cell_type": "markdown",
   "id": "05b9c1cd",
   "metadata": {},
   "source": [
    "### 4.4 fuel-type"
   ]
  },
  {
   "cell_type": "code",
   "execution_count": 146,
   "id": "df78fc52",
   "metadata": {},
   "outputs": [],
   "source": [
    "df['fuel-type'].replace({'gas': 1, 'diesel': 0}, inplace=True)"
   ]
  },
  {
   "cell_type": "code",
   "execution_count": 147,
   "id": "2c3eb30a",
   "metadata": {},
   "outputs": [
    {
     "data": {
      "text/plain": [
       "dtype('int64')"
      ]
     },
     "execution_count": 147,
     "metadata": {},
     "output_type": "execute_result"
    }
   ],
   "source": [
    "df['fuel-type'].dtype"
   ]
  },
  {
   "cell_type": "code",
   "execution_count": 148,
   "id": "00425c07",
   "metadata": {},
   "outputs": [
    {
     "data": {
      "text/plain": [
       "0"
      ]
     },
     "execution_count": 148,
     "metadata": {},
     "output_type": "execute_result"
    }
   ],
   "source": [
    "df['fuel-type'].isna().sum()"
   ]
  },
  {
   "cell_type": "markdown",
   "id": "6a8643e3",
   "metadata": {},
   "source": [
    "### 4.5 aspiration"
   ]
  },
  {
   "cell_type": "code",
   "execution_count": 149,
   "id": "e4c6add6",
   "metadata": {},
   "outputs": [],
   "source": [
    "df.aspiration.replace({'std': 0, 'turbo': 1}, inplace=True)"
   ]
  },
  {
   "cell_type": "code",
   "execution_count": 150,
   "id": "190427f0",
   "metadata": {},
   "outputs": [
    {
     "data": {
      "text/plain": [
       "0"
      ]
     },
     "execution_count": 150,
     "metadata": {},
     "output_type": "execute_result"
    }
   ],
   "source": [
    "df.aspiration.isna().sum()"
   ]
  },
  {
   "cell_type": "code",
   "execution_count": 151,
   "id": "6acb15c1",
   "metadata": {},
   "outputs": [
    {
     "data": {
      "text/plain": [
       "dtype('int64')"
      ]
     },
     "execution_count": 151,
     "metadata": {},
     "output_type": "execute_result"
    }
   ],
   "source": [
    "df.aspiration.dtype"
   ]
  },
  {
   "cell_type": "code",
   "execution_count": 152,
   "id": "7894af10",
   "metadata": {},
   "outputs": [
    {
     "data": {
      "text/plain": [
       "Index(['symboling', 'normalized-losses', 'fuel-type', 'aspiration',\n",
       "       'num-of-doors', 'body-style', 'drive-wheels', 'engine-location',\n",
       "       'wheel-base', 'length', 'width', 'height', 'curb-weight', 'engine-type',\n",
       "       'num-of-cylinders', 'engine-size', 'fuel-system', 'bore', 'stroke',\n",
       "       'compression-ratio', 'horsepower', 'peak-rpm', 'city-mpg',\n",
       "       'highway-mpg', 'price', 'make_alfa-romero', 'make_audi', 'make_bmw',\n",
       "       'make_chevrolet', 'make_dodge', 'make_honda', 'make_isuzu',\n",
       "       'make_jaguar', 'make_mazda', 'make_mercedes-benz', 'make_mercury',\n",
       "       'make_mitsubishi', 'make_nissan', 'make_peugot', 'make_plymouth',\n",
       "       'make_porsche', 'make_renault', 'make_saab', 'make_subaru',\n",
       "       'make_toyota', 'make_volkswagen', 'make_volvo'],\n",
       "      dtype='object')"
      ]
     },
     "execution_count": 152,
     "metadata": {},
     "output_type": "execute_result"
    }
   ],
   "source": [
    "df.columns"
   ]
  },
  {
   "cell_type": "markdown",
   "id": "67dfb791",
   "metadata": {},
   "source": [
    "## 3.6 num-of-doors"
   ]
  },
  {
   "cell_type": "code",
   "execution_count": 153,
   "id": "46684a06",
   "metadata": {},
   "outputs": [
    {
     "data": {
      "text/plain": [
       "dtype('O')"
      ]
     },
     "execution_count": 153,
     "metadata": {},
     "output_type": "execute_result"
    }
   ],
   "source": [
    "df['num-of-doors'].dtype"
   ]
  },
  {
   "cell_type": "code",
   "execution_count": 154,
   "id": "7886fc50",
   "metadata": {},
   "outputs": [
    {
     "data": {
      "text/plain": [
       "2"
      ]
     },
     "execution_count": 154,
     "metadata": {},
     "output_type": "execute_result"
    }
   ],
   "source": [
    "df['num-of-doors'].nunique()"
   ]
  },
  {
   "cell_type": "code",
   "execution_count": 155,
   "id": "88691e12",
   "metadata": {},
   "outputs": [
    {
     "data": {
      "text/plain": [
       "num-of-doors\n",
       "four    114\n",
       "two      89\n",
       "Name: count, dtype: int64"
      ]
     },
     "execution_count": 155,
     "metadata": {},
     "output_type": "execute_result"
    }
   ],
   "source": [
    "df['num-of-doors'].value_counts() ### Categorical [Ordinal ]"
   ]
  },
  {
   "cell_type": "code",
   "execution_count": 156,
   "id": "80563815",
   "metadata": {},
   "outputs": [
    {
     "data": {
      "text/plain": [
       "{'four': 114, 'two': 89}"
      ]
     },
     "execution_count": 156,
     "metadata": {},
     "output_type": "execute_result"
    }
   ],
   "source": [
    "df['num-of-doors'].value_counts().to_dict()"
   ]
  },
  {
   "cell_type": "code",
   "execution_count": 157,
   "id": "873140fd",
   "metadata": {},
   "outputs": [],
   "source": [
    "df['num-of-doors'].replace({'four': 4, 'two': 2}, inplace=True)"
   ]
  },
  {
   "cell_type": "code",
   "execution_count": 158,
   "id": "7ba6f80b",
   "metadata": {},
   "outputs": [
    {
     "data": {
      "text/plain": [
       "2"
      ]
     },
     "execution_count": 158,
     "metadata": {},
     "output_type": "execute_result"
    }
   ],
   "source": [
    "df['num-of-doors'].isna().sum()"
   ]
  },
  {
   "cell_type": "code",
   "execution_count": 159,
   "id": "a12fdf2c",
   "metadata": {},
   "outputs": [],
   "source": [
    "df['num-of-doors'].fillna(df['num-of-doors'].mode()[0], inplace=True)"
   ]
  },
  {
   "cell_type": "code",
   "execution_count": 160,
   "id": "4799642f",
   "metadata": {},
   "outputs": [
    {
     "data": {
      "text/plain": [
       "0"
      ]
     },
     "execution_count": 160,
     "metadata": {},
     "output_type": "execute_result"
    }
   ],
   "source": [
    "df['num-of-doors'].isna().sum()"
   ]
  },
  {
   "cell_type": "code",
   "execution_count": 161,
   "id": "c4f59b9e",
   "metadata": {},
   "outputs": [
    {
     "data": {
      "text/plain": [
       "dtype('float64')"
      ]
     },
     "execution_count": 161,
     "metadata": {},
     "output_type": "execute_result"
    }
   ],
   "source": [
    "df['num-of-doors'].dtype"
   ]
  },
  {
   "cell_type": "code",
   "execution_count": 162,
   "id": "d76921a2",
   "metadata": {},
   "outputs": [],
   "source": [
    "df['num-of-doors'] = df['num-of-doors'].astype(int)"
   ]
  },
  {
   "cell_type": "code",
   "execution_count": 163,
   "id": "84ba936f",
   "metadata": {},
   "outputs": [
    {
     "data": {
      "text/plain": [
       "dtype('int32')"
      ]
     },
     "execution_count": 163,
     "metadata": {},
     "output_type": "execute_result"
    }
   ],
   "source": [
    "df['num-of-doors'].dtype"
   ]
  },
  {
   "cell_type": "markdown",
   "id": "226acb64",
   "metadata": {},
   "source": [
    "### 3.7 body-style"
   ]
  },
  {
   "cell_type": "code",
   "execution_count": 164,
   "id": "e1c19f04",
   "metadata": {},
   "outputs": [
    {
     "data": {
      "text/plain": [
       "dtype('O')"
      ]
     },
     "execution_count": 164,
     "metadata": {},
     "output_type": "execute_result"
    }
   ],
   "source": [
    "df['body-style'].dtype"
   ]
  },
  {
   "cell_type": "code",
   "execution_count": 165,
   "id": "40406427",
   "metadata": {},
   "outputs": [
    {
     "data": {
      "text/plain": [
       "body-style\n",
       "sedan          96\n",
       "hatchback      70\n",
       "wagon          25\n",
       "hardtop         8\n",
       "convertible     6\n",
       "Name: count, dtype: int64"
      ]
     },
     "execution_count": 165,
     "metadata": {},
     "output_type": "execute_result"
    }
   ],
   "source": [
    "df['body-style'].value_counts() ### Categorical [Nominal Data] >> one hot "
   ]
  },
  {
   "cell_type": "code",
   "execution_count": 166,
   "id": "9e14bb7e",
   "metadata": {},
   "outputs": [],
   "source": [
    "df = pd.get_dummies(df, columns=['body-style'],dtype= int)"
   ]
  },
  {
   "cell_type": "code",
   "execution_count": 167,
   "id": "964a0ecf",
   "metadata": {},
   "outputs": [
    {
     "data": {
      "text/html": [
       "<div>\n",
       "<style scoped>\n",
       "    .dataframe tbody tr th:only-of-type {\n",
       "        vertical-align: middle;\n",
       "    }\n",
       "\n",
       "    .dataframe tbody tr th {\n",
       "        vertical-align: top;\n",
       "    }\n",
       "\n",
       "    .dataframe thead th {\n",
       "        text-align: right;\n",
       "    }\n",
       "</style>\n",
       "<table border=\"1\" class=\"dataframe\">\n",
       "  <thead>\n",
       "    <tr style=\"text-align: right;\">\n",
       "      <th></th>\n",
       "      <th>symboling</th>\n",
       "      <th>normalized-losses</th>\n",
       "      <th>fuel-type</th>\n",
       "      <th>aspiration</th>\n",
       "      <th>num-of-doors</th>\n",
       "      <th>drive-wheels</th>\n",
       "      <th>engine-location</th>\n",
       "      <th>wheel-base</th>\n",
       "      <th>length</th>\n",
       "      <th>width</th>\n",
       "      <th>...</th>\n",
       "      <th>make_saab</th>\n",
       "      <th>make_subaru</th>\n",
       "      <th>make_toyota</th>\n",
       "      <th>make_volkswagen</th>\n",
       "      <th>make_volvo</th>\n",
       "      <th>body-style_convertible</th>\n",
       "      <th>body-style_hardtop</th>\n",
       "      <th>body-style_hatchback</th>\n",
       "      <th>body-style_sedan</th>\n",
       "      <th>body-style_wagon</th>\n",
       "    </tr>\n",
       "  </thead>\n",
       "  <tbody>\n",
       "    <tr>\n",
       "      <th>0</th>\n",
       "      <td>3</td>\n",
       "      <td>115</td>\n",
       "      <td>1</td>\n",
       "      <td>0</td>\n",
       "      <td>2</td>\n",
       "      <td>rwd</td>\n",
       "      <td>front</td>\n",
       "      <td>88.6</td>\n",
       "      <td>168.8</td>\n",
       "      <td>64.1</td>\n",
       "      <td>...</td>\n",
       "      <td>0</td>\n",
       "      <td>0</td>\n",
       "      <td>0</td>\n",
       "      <td>0</td>\n",
       "      <td>0</td>\n",
       "      <td>1</td>\n",
       "      <td>0</td>\n",
       "      <td>0</td>\n",
       "      <td>0</td>\n",
       "      <td>0</td>\n",
       "    </tr>\n",
       "    <tr>\n",
       "      <th>1</th>\n",
       "      <td>3</td>\n",
       "      <td>115</td>\n",
       "      <td>1</td>\n",
       "      <td>0</td>\n",
       "      <td>2</td>\n",
       "      <td>rwd</td>\n",
       "      <td>front</td>\n",
       "      <td>88.6</td>\n",
       "      <td>168.8</td>\n",
       "      <td>64.1</td>\n",
       "      <td>...</td>\n",
       "      <td>0</td>\n",
       "      <td>0</td>\n",
       "      <td>0</td>\n",
       "      <td>0</td>\n",
       "      <td>0</td>\n",
       "      <td>1</td>\n",
       "      <td>0</td>\n",
       "      <td>0</td>\n",
       "      <td>0</td>\n",
       "      <td>0</td>\n",
       "    </tr>\n",
       "    <tr>\n",
       "      <th>2</th>\n",
       "      <td>1</td>\n",
       "      <td>115</td>\n",
       "      <td>1</td>\n",
       "      <td>0</td>\n",
       "      <td>2</td>\n",
       "      <td>rwd</td>\n",
       "      <td>front</td>\n",
       "      <td>94.5</td>\n",
       "      <td>171.2</td>\n",
       "      <td>65.5</td>\n",
       "      <td>...</td>\n",
       "      <td>0</td>\n",
       "      <td>0</td>\n",
       "      <td>0</td>\n",
       "      <td>0</td>\n",
       "      <td>0</td>\n",
       "      <td>0</td>\n",
       "      <td>0</td>\n",
       "      <td>1</td>\n",
       "      <td>0</td>\n",
       "      <td>0</td>\n",
       "    </tr>\n",
       "    <tr>\n",
       "      <th>3</th>\n",
       "      <td>2</td>\n",
       "      <td>164</td>\n",
       "      <td>1</td>\n",
       "      <td>0</td>\n",
       "      <td>4</td>\n",
       "      <td>fwd</td>\n",
       "      <td>front</td>\n",
       "      <td>99.8</td>\n",
       "      <td>176.6</td>\n",
       "      <td>66.2</td>\n",
       "      <td>...</td>\n",
       "      <td>0</td>\n",
       "      <td>0</td>\n",
       "      <td>0</td>\n",
       "      <td>0</td>\n",
       "      <td>0</td>\n",
       "      <td>0</td>\n",
       "      <td>0</td>\n",
       "      <td>0</td>\n",
       "      <td>1</td>\n",
       "      <td>0</td>\n",
       "    </tr>\n",
       "    <tr>\n",
       "      <th>4</th>\n",
       "      <td>2</td>\n",
       "      <td>164</td>\n",
       "      <td>1</td>\n",
       "      <td>0</td>\n",
       "      <td>4</td>\n",
       "      <td>4wd</td>\n",
       "      <td>front</td>\n",
       "      <td>99.4</td>\n",
       "      <td>176.6</td>\n",
       "      <td>66.4</td>\n",
       "      <td>...</td>\n",
       "      <td>0</td>\n",
       "      <td>0</td>\n",
       "      <td>0</td>\n",
       "      <td>0</td>\n",
       "      <td>0</td>\n",
       "      <td>0</td>\n",
       "      <td>0</td>\n",
       "      <td>0</td>\n",
       "      <td>1</td>\n",
       "      <td>0</td>\n",
       "    </tr>\n",
       "    <tr>\n",
       "      <th>...</th>\n",
       "      <td>...</td>\n",
       "      <td>...</td>\n",
       "      <td>...</td>\n",
       "      <td>...</td>\n",
       "      <td>...</td>\n",
       "      <td>...</td>\n",
       "      <td>...</td>\n",
       "      <td>...</td>\n",
       "      <td>...</td>\n",
       "      <td>...</td>\n",
       "      <td>...</td>\n",
       "      <td>...</td>\n",
       "      <td>...</td>\n",
       "      <td>...</td>\n",
       "      <td>...</td>\n",
       "      <td>...</td>\n",
       "      <td>...</td>\n",
       "      <td>...</td>\n",
       "      <td>...</td>\n",
       "      <td>...</td>\n",
       "      <td>...</td>\n",
       "    </tr>\n",
       "    <tr>\n",
       "      <th>200</th>\n",
       "      <td>-1</td>\n",
       "      <td>95</td>\n",
       "      <td>1</td>\n",
       "      <td>0</td>\n",
       "      <td>4</td>\n",
       "      <td>rwd</td>\n",
       "      <td>front</td>\n",
       "      <td>109.1</td>\n",
       "      <td>188.8</td>\n",
       "      <td>68.9</td>\n",
       "      <td>...</td>\n",
       "      <td>0</td>\n",
       "      <td>0</td>\n",
       "      <td>0</td>\n",
       "      <td>0</td>\n",
       "      <td>1</td>\n",
       "      <td>0</td>\n",
       "      <td>0</td>\n",
       "      <td>0</td>\n",
       "      <td>1</td>\n",
       "      <td>0</td>\n",
       "    </tr>\n",
       "    <tr>\n",
       "      <th>201</th>\n",
       "      <td>-1</td>\n",
       "      <td>95</td>\n",
       "      <td>1</td>\n",
       "      <td>1</td>\n",
       "      <td>4</td>\n",
       "      <td>rwd</td>\n",
       "      <td>front</td>\n",
       "      <td>109.1</td>\n",
       "      <td>188.8</td>\n",
       "      <td>68.8</td>\n",
       "      <td>...</td>\n",
       "      <td>0</td>\n",
       "      <td>0</td>\n",
       "      <td>0</td>\n",
       "      <td>0</td>\n",
       "      <td>1</td>\n",
       "      <td>0</td>\n",
       "      <td>0</td>\n",
       "      <td>0</td>\n",
       "      <td>1</td>\n",
       "      <td>0</td>\n",
       "    </tr>\n",
       "    <tr>\n",
       "      <th>202</th>\n",
       "      <td>-1</td>\n",
       "      <td>95</td>\n",
       "      <td>1</td>\n",
       "      <td>0</td>\n",
       "      <td>4</td>\n",
       "      <td>rwd</td>\n",
       "      <td>front</td>\n",
       "      <td>109.1</td>\n",
       "      <td>188.8</td>\n",
       "      <td>68.9</td>\n",
       "      <td>...</td>\n",
       "      <td>0</td>\n",
       "      <td>0</td>\n",
       "      <td>0</td>\n",
       "      <td>0</td>\n",
       "      <td>1</td>\n",
       "      <td>0</td>\n",
       "      <td>0</td>\n",
       "      <td>0</td>\n",
       "      <td>1</td>\n",
       "      <td>0</td>\n",
       "    </tr>\n",
       "    <tr>\n",
       "      <th>203</th>\n",
       "      <td>-1</td>\n",
       "      <td>95</td>\n",
       "      <td>0</td>\n",
       "      <td>1</td>\n",
       "      <td>4</td>\n",
       "      <td>rwd</td>\n",
       "      <td>front</td>\n",
       "      <td>109.1</td>\n",
       "      <td>188.8</td>\n",
       "      <td>68.9</td>\n",
       "      <td>...</td>\n",
       "      <td>0</td>\n",
       "      <td>0</td>\n",
       "      <td>0</td>\n",
       "      <td>0</td>\n",
       "      <td>1</td>\n",
       "      <td>0</td>\n",
       "      <td>0</td>\n",
       "      <td>0</td>\n",
       "      <td>1</td>\n",
       "      <td>0</td>\n",
       "    </tr>\n",
       "    <tr>\n",
       "      <th>204</th>\n",
       "      <td>-1</td>\n",
       "      <td>95</td>\n",
       "      <td>1</td>\n",
       "      <td>1</td>\n",
       "      <td>4</td>\n",
       "      <td>rwd</td>\n",
       "      <td>front</td>\n",
       "      <td>109.1</td>\n",
       "      <td>188.8</td>\n",
       "      <td>68.9</td>\n",
       "      <td>...</td>\n",
       "      <td>0</td>\n",
       "      <td>0</td>\n",
       "      <td>0</td>\n",
       "      <td>0</td>\n",
       "      <td>1</td>\n",
       "      <td>0</td>\n",
       "      <td>0</td>\n",
       "      <td>0</td>\n",
       "      <td>1</td>\n",
       "      <td>0</td>\n",
       "    </tr>\n",
       "  </tbody>\n",
       "</table>\n",
       "<p>205 rows × 51 columns</p>\n",
       "</div>"
      ],
      "text/plain": [
       "     symboling  normalized-losses  fuel-type  aspiration  num-of-doors  \\\n",
       "0            3                115          1           0             2   \n",
       "1            3                115          1           0             2   \n",
       "2            1                115          1           0             2   \n",
       "3            2                164          1           0             4   \n",
       "4            2                164          1           0             4   \n",
       "..         ...                ...        ...         ...           ...   \n",
       "200         -1                 95          1           0             4   \n",
       "201         -1                 95          1           1             4   \n",
       "202         -1                 95          1           0             4   \n",
       "203         -1                 95          0           1             4   \n",
       "204         -1                 95          1           1             4   \n",
       "\n",
       "    drive-wheels engine-location  wheel-base  length  width  ...  make_saab  \\\n",
       "0            rwd           front        88.6   168.8   64.1  ...          0   \n",
       "1            rwd           front        88.6   168.8   64.1  ...          0   \n",
       "2            rwd           front        94.5   171.2   65.5  ...          0   \n",
       "3            fwd           front        99.8   176.6   66.2  ...          0   \n",
       "4            4wd           front        99.4   176.6   66.4  ...          0   \n",
       "..           ...             ...         ...     ...    ...  ...        ...   \n",
       "200          rwd           front       109.1   188.8   68.9  ...          0   \n",
       "201          rwd           front       109.1   188.8   68.8  ...          0   \n",
       "202          rwd           front       109.1   188.8   68.9  ...          0   \n",
       "203          rwd           front       109.1   188.8   68.9  ...          0   \n",
       "204          rwd           front       109.1   188.8   68.9  ...          0   \n",
       "\n",
       "     make_subaru make_toyota make_volkswagen  make_volvo  \\\n",
       "0              0           0               0           0   \n",
       "1              0           0               0           0   \n",
       "2              0           0               0           0   \n",
       "3              0           0               0           0   \n",
       "4              0           0               0           0   \n",
       "..           ...         ...             ...         ...   \n",
       "200            0           0               0           1   \n",
       "201            0           0               0           1   \n",
       "202            0           0               0           1   \n",
       "203            0           0               0           1   \n",
       "204            0           0               0           1   \n",
       "\n",
       "    body-style_convertible body-style_hardtop body-style_hatchback  \\\n",
       "0                        1                  0                    0   \n",
       "1                        1                  0                    0   \n",
       "2                        0                  0                    1   \n",
       "3                        0                  0                    0   \n",
       "4                        0                  0                    0   \n",
       "..                     ...                ...                  ...   \n",
       "200                      0                  0                    0   \n",
       "201                      0                  0                    0   \n",
       "202                      0                  0                    0   \n",
       "203                      0                  0                    0   \n",
       "204                      0                  0                    0   \n",
       "\n",
       "     body-style_sedan body-style_wagon  \n",
       "0                   0                0  \n",
       "1                   0                0  \n",
       "2                   0                0  \n",
       "3                   1                0  \n",
       "4                   1                0  \n",
       "..                ...              ...  \n",
       "200                 1                0  \n",
       "201                 1                0  \n",
       "202                 1                0  \n",
       "203                 1                0  \n",
       "204                 1                0  \n",
       "\n",
       "[205 rows x 51 columns]"
      ]
     },
     "execution_count": 167,
     "metadata": {},
     "output_type": "execute_result"
    }
   ],
   "source": [
    "df"
   ]
  },
  {
   "cell_type": "markdown",
   "id": "8e39bc7a",
   "metadata": {},
   "source": [
    "### 3.8 drive-wheels"
   ]
  },
  {
   "cell_type": "code",
   "execution_count": 168,
   "id": "6161bb4e",
   "metadata": {},
   "outputs": [
    {
     "data": {
      "text/plain": [
       "drive-wheels\n",
       "fwd    120\n",
       "rwd     76\n",
       "4wd      9\n",
       "Name: count, dtype: int64"
      ]
     },
     "execution_count": 168,
     "metadata": {},
     "output_type": "execute_result"
    }
   ],
   "source": [
    "df['drive-wheels'].value_counts() ## >> Categorical nominal data  "
   ]
  },
  {
   "cell_type": "code",
   "execution_count": 169,
   "id": "aa0ec4f7",
   "metadata": {},
   "outputs": [],
   "source": [
    "df = pd.get_dummies(df, columns=['drive-wheels'],dtype= int)"
   ]
  },
  {
   "cell_type": "code",
   "execution_count": 170,
   "id": "93988fbf",
   "metadata": {},
   "outputs": [
    {
     "name": "stdout",
     "output_type": "stream",
     "text": [
      "<class 'pandas.core.frame.DataFrame'>\n",
      "RangeIndex: 205 entries, 0 to 204\n",
      "Data columns (total 53 columns):\n",
      " #   Column                  Non-Null Count  Dtype  \n",
      "---  ------                  --------------  -----  \n",
      " 0   symboling               205 non-null    int64  \n",
      " 1   normalized-losses       205 non-null    int32  \n",
      " 2   fuel-type               205 non-null    int64  \n",
      " 3   aspiration              205 non-null    int64  \n",
      " 4   num-of-doors            205 non-null    int32  \n",
      " 5   engine-location         205 non-null    object \n",
      " 6   wheel-base              205 non-null    float64\n",
      " 7   length                  205 non-null    float64\n",
      " 8   width                   205 non-null    float64\n",
      " 9   height                  205 non-null    float64\n",
      " 10  curb-weight             205 non-null    int64  \n",
      " 11  engine-type             205 non-null    object \n",
      " 12  num-of-cylinders        205 non-null    object \n",
      " 13  engine-size             205 non-null    int64  \n",
      " 14  fuel-system             205 non-null    object \n",
      " 15  bore                    201 non-null    object \n",
      " 16  stroke                  201 non-null    object \n",
      " 17  compression-ratio       205 non-null    float64\n",
      " 18  horsepower              203 non-null    object \n",
      " 19  peak-rpm                203 non-null    object \n",
      " 20  city-mpg                205 non-null    int64  \n",
      " 21  highway-mpg             205 non-null    int64  \n",
      " 22  price                   201 non-null    object \n",
      " 23  make_alfa-romero        205 non-null    int32  \n",
      " 24  make_audi               205 non-null    int32  \n",
      " 25  make_bmw                205 non-null    int32  \n",
      " 26  make_chevrolet          205 non-null    int32  \n",
      " 27  make_dodge              205 non-null    int32  \n",
      " 28  make_honda              205 non-null    int32  \n",
      " 29  make_isuzu              205 non-null    int32  \n",
      " 30  make_jaguar             205 non-null    int32  \n",
      " 31  make_mazda              205 non-null    int32  \n",
      " 32  make_mercedes-benz      205 non-null    int32  \n",
      " 33  make_mercury            205 non-null    int32  \n",
      " 34  make_mitsubishi         205 non-null    int32  \n",
      " 35  make_nissan             205 non-null    int32  \n",
      " 36  make_peugot             205 non-null    int32  \n",
      " 37  make_plymouth           205 non-null    int32  \n",
      " 38  make_porsche            205 non-null    int32  \n",
      " 39  make_renault            205 non-null    int32  \n",
      " 40  make_saab               205 non-null    int32  \n",
      " 41  make_subaru             205 non-null    int32  \n",
      " 42  make_toyota             205 non-null    int32  \n",
      " 43  make_volkswagen         205 non-null    int32  \n",
      " 44  make_volvo              205 non-null    int32  \n",
      " 45  body-style_convertible  205 non-null    int32  \n",
      " 46  body-style_hardtop      205 non-null    int32  \n",
      " 47  body-style_hatchback    205 non-null    int32  \n",
      " 48  body-style_sedan        205 non-null    int32  \n",
      " 49  body-style_wagon        205 non-null    int32  \n",
      " 50  drive-wheels_4wd        205 non-null    int32  \n",
      " 51  drive-wheels_fwd        205 non-null    int32  \n",
      " 52  drive-wheels_rwd        205 non-null    int32  \n",
      "dtypes: float64(5), int32(32), int64(7), object(9)\n",
      "memory usage: 59.4+ KB\n"
     ]
    }
   ],
   "source": [
    "df.info()"
   ]
  },
  {
   "cell_type": "markdown",
   "id": "ab61283d",
   "metadata": {},
   "source": [
    "### 3.9 engine-location"
   ]
  },
  {
   "cell_type": "code",
   "execution_count": 171,
   "id": "3f105bf1",
   "metadata": {},
   "outputs": [
    {
     "data": {
      "text/plain": [
       "{'front': 202, 'rear': 3}"
      ]
     },
     "execution_count": 171,
     "metadata": {},
     "output_type": "execute_result"
    }
   ],
   "source": [
    "df['engine-location'].value_counts().to_dict()"
   ]
  },
  {
   "cell_type": "code",
   "execution_count": 172,
   "id": "71a2b5ca",
   "metadata": {},
   "outputs": [],
   "source": [
    "df['engine-location'].replace({'front': 0, 'rear': 1}, inplace=True)"
   ]
  },
  {
   "cell_type": "code",
   "execution_count": 173,
   "id": "4aaf6fa4",
   "metadata": {},
   "outputs": [
    {
     "data": {
      "text/plain": [
       "dtype('int64')"
      ]
     },
     "execution_count": 173,
     "metadata": {},
     "output_type": "execute_result"
    }
   ],
   "source": [
    "df['engine-location'].dtype"
   ]
  },
  {
   "cell_type": "code",
   "execution_count": 174,
   "id": "4cec86f8",
   "metadata": {},
   "outputs": [
    {
     "data": {
      "text/plain": [
       "0"
      ]
     },
     "execution_count": 174,
     "metadata": {},
     "output_type": "execute_result"
    }
   ],
   "source": [
    "df['engine-location'].isna().sum()"
   ]
  },
  {
   "cell_type": "markdown",
   "id": "fe79a0fd",
   "metadata": {},
   "source": [
    "### 3.10  wheel-base"
   ]
  },
  {
   "cell_type": "code",
   "execution_count": 175,
   "id": "3b7e0817",
   "metadata": {},
   "outputs": [
    {
     "data": {
      "text/plain": [
       "0       88.6\n",
       "1       88.6\n",
       "2       94.5\n",
       "3       99.8\n",
       "4       99.4\n",
       "       ...  \n",
       "200    109.1\n",
       "201    109.1\n",
       "202    109.1\n",
       "203    109.1\n",
       "204    109.1\n",
       "Name: wheel-base, Length: 205, dtype: float64"
      ]
     },
     "execution_count": 175,
     "metadata": {},
     "output_type": "execute_result"
    }
   ],
   "source": [
    "df['wheel-base']"
   ]
  },
  {
   "cell_type": "code",
   "execution_count": 176,
   "id": "a728f7aa",
   "metadata": {},
   "outputs": [
    {
     "data": {
      "text/plain": [
       "<Axes: xlabel='wheel-base', ylabel='Density'>"
      ]
     },
     "execution_count": 176,
     "metadata": {},
     "output_type": "execute_result"
    },
    {
     "data": {
      "image/png": "[encoded data removed]",
      "text/plain": [
       "<Figure size 640x480 with 1 Axes>"
      ]
     },
     "metadata": {},
     "output_type": "display_data"
    }
   ],
   "source": [
    "sns.kdeplot(df['wheel-base'])"
   ]
  },
  {
   "cell_type": "code",
   "execution_count": 177,
   "id": "874381c6",
   "metadata": {},
   "outputs": [
    {
     "data": {
      "text/plain": [
       "<Axes: >"
      ]
     },
     "execution_count": 177,
     "metadata": {},
     "output_type": "execute_result"
    },
    {
     "data": {
      "image/png": "[encoded data removed]",
      "text/plain": [
       "<Figure size 640x480 with 1 Axes>"
      ]
     },
     "metadata": {},
     "output_type": "display_data"
    }
   ],
   "source": [
    "sns.boxplot(df['wheel-base'])"
   ]
  },
  {
   "cell_type": "code",
   "execution_count": 178,
   "id": "9a6ed42e",
   "metadata": {},
   "outputs": [
    {
     "data": {
      "text/plain": [
       "<Axes: xlabel='wheel-base'>"
      ]
     },
     "execution_count": 178,
     "metadata": {},
     "output_type": "execute_result"
    },
    {
     "data": {
      "image/png": "[encoded data removed]",
      "text/plain": [
       "<Figure size 640x480 with 1 Axes>"
      ]
     },
     "metadata": {},
     "output_type": "display_data"
    }
   ],
   "source": [
    "sns.boxplot(x = df['wheel-base'])"
   ]
  },
  {
   "cell_type": "markdown",
   "id": "d7949dd3",
   "metadata": {},
   "source": [
    "### 3.11 engine-type"
   ]
  },
  {
   "cell_type": "code",
   "execution_count": 179,
   "id": "556bbc1f",
   "metadata": {},
   "outputs": [
    {
     "data": {
      "text/plain": [
       "engine-type\n",
       "ohc      148\n",
       "ohcf      15\n",
       "ohcv      13\n",
       "dohc      12\n",
       "l         12\n",
       "rotor      4\n",
       "dohcv      1\n",
       "Name: count, dtype: int64"
      ]
     },
     "execution_count": 179,
     "metadata": {},
     "output_type": "execute_result"
    }
   ],
   "source": [
    "df['engine-type'].value_counts()"
   ]
  },
  {
   "cell_type": "code",
   "execution_count": 180,
   "id": "8e05e078",
   "metadata": {},
   "outputs": [],
   "source": [
    "df = pd.get_dummies(df,columns=['engine-type'],dtype= int)"
   ]
  },
  {
   "cell_type": "code",
   "execution_count": 181,
   "id": "32940bb9",
   "metadata": {},
   "outputs": [],
   "source": [
    "# df.info()"
   ]
  },
  {
   "cell_type": "markdown",
   "id": "3e292a76",
   "metadata": {},
   "source": [
    "### 3.12 num-of-cylinders"
   ]
  },
  {
   "cell_type": "code",
   "execution_count": 182,
   "id": "20d6201d",
   "metadata": {},
   "outputs": [
    {
     "data": {
      "text/plain": [
       "num-of-cylinders\n",
       "four      159\n",
       "six        24\n",
       "five       11\n",
       "eight       5\n",
       "two         4\n",
       "three       1\n",
       "twelve      1\n",
       "Name: count, dtype: int64"
      ]
     },
     "execution_count": 182,
     "metadata": {},
     "output_type": "execute_result"
    }
   ],
   "source": [
    "df['num-of-cylinders'].value_counts() ### Categorcial Oridnal ## label encoding "
   ]
  },
  {
   "cell_type": "code",
   "execution_count": 183,
   "id": "16479e0b",
   "metadata": {},
   "outputs": [
    {
     "data": {
      "text/plain": [
       "{'four': 159,\n",
       " 'six': 24,\n",
       " 'five': 11,\n",
       " 'eight': 5,\n",
       " 'two': 4,\n",
       " 'three': 1,\n",
       " 'twelve': 1}"
      ]
     },
     "execution_count": 183,
     "metadata": {},
     "output_type": "execute_result"
    }
   ],
   "source": [
    "df['num-of-cylinders'].value_counts().to_dict()"
   ]
  },
  {
   "cell_type": "code",
   "execution_count": 184,
   "id": "8960570f",
   "metadata": {},
   "outputs": [],
   "source": [
    "df['num-of-cylinders'].replace({'four': 4,\n",
    " 'six': 6,\n",
    " 'five': 5,\n",
    " 'eight': 8,\n",
    " 'two': 2,\n",
    " 'three': 3,\n",
    " 'twelve': 12}, inplace=True)"
   ]
  },
  {
   "cell_type": "code",
   "execution_count": 185,
   "id": "364f289a",
   "metadata": {},
   "outputs": [
    {
     "name": "stdout",
     "output_type": "stream",
     "text": [
      "<class 'pandas.core.frame.DataFrame'>\n",
      "RangeIndex: 205 entries, 0 to 204\n",
      "Data columns (total 59 columns):\n",
      " #   Column                  Non-Null Count  Dtype  \n",
      "---  ------                  --------------  -----  \n",
      " 0   symboling               205 non-null    int64  \n",
      " 1   normalized-losses       205 non-null    int32  \n",
      " 2   fuel-type               205 non-null    int64  \n",
      " 3   aspiration              205 non-null    int64  \n",
      " 4   num-of-doors            205 non-null    int32  \n",
      " 5   engine-location         205 non-null    int64  \n",
      " 6   wheel-base              205 non-null    float64\n",
      " 7   length                  205 non-null    float64\n",
      " 8   width                   205 non-null    float64\n",
      " 9   height                  205 non-null    float64\n",
      " 10  curb-weight             205 non-null    int64  \n",
      " 11  num-of-cylinders        205 non-null    int64  \n",
      " 12  engine-size             205 non-null    int64  \n",
      " 13  fuel-system             205 non-null    object \n",
      " 14  bore                    201 non-null    object \n",
      " 15  stroke                  201 non-null    object \n",
      " 16  compression-ratio       205 non-null    float64\n",
      " 17  horsepower              203 non-null    object \n",
      " 18  peak-rpm                203 non-null    object \n",
      " 19  city-mpg                205 non-null    int64  \n",
      " 20  highway-mpg             205 non-null    int64  \n",
      " 21  price                   201 non-null    object \n",
      " 22  make_alfa-romero        205 non-null    int32  \n",
      " 23  make_audi               205 non-null    int32  \n",
      " 24  make_bmw                205 non-null    int32  \n",
      " 25  make_chevrolet          205 non-null    int32  \n",
      " 26  make_dodge              205 non-null    int32  \n",
      " 27  make_honda              205 non-null    int32  \n",
      " 28  make_isuzu              205 non-null    int32  \n",
      " 29  make_jaguar             205 non-null    int32  \n",
      " 30  make_mazda              205 non-null    int32  \n",
      " 31  make_mercedes-benz      205 non-null    int32  \n",
      " 32  make_mercury            205 non-null    int32  \n",
      " 33  make_mitsubishi         205 non-null    int32  \n",
      " 34  make_nissan             205 non-null    int32  \n",
      " 35  make_peugot             205 non-null    int32  \n",
      " 36  make_plymouth           205 non-null    int32  \n",
      " 37  make_porsche            205 non-null    int32  \n",
      " 38  make_renault            205 non-null    int32  \n",
      " 39  make_saab               205 non-null    int32  \n",
      " 40  make_subaru             205 non-null    int32  \n",
      " 41  make_toyota             205 non-null    int32  \n",
      " 42  make_volkswagen         205 non-null    int32  \n",
      " 43  make_volvo              205 non-null    int32  \n",
      " 44  body-style_convertible  205 non-null    int32  \n",
      " 45  body-style_hardtop      205 non-null    int32  \n",
      " 46  body-style_hatchback    205 non-null    int32  \n",
      " 47  body-style_sedan        205 non-null    int32  \n",
      " 48  body-style_wagon        205 non-null    int32  \n",
      " 49  drive-wheels_4wd        205 non-null    int32  \n",
      " 50  drive-wheels_fwd        205 non-null    int32  \n",
      " 51  drive-wheels_rwd        205 non-null    int32  \n",
      " 52  engine-type_dohc        205 non-null    int32  \n",
      " 53  engine-type_dohcv       205 non-null    int32  \n",
      " 54  engine-type_l           205 non-null    int32  \n",
      " 55  engine-type_ohc         205 non-null    int32  \n",
      " 56  engine-type_ohcf        205 non-null    int32  \n",
      " 57  engine-type_ohcv        205 non-null    int32  \n",
      " 58  engine-type_rotor       205 non-null    int32  \n",
      "dtypes: float64(5), int32(39), int64(9), object(6)\n",
      "memory usage: 63.4+ KB\n"
     ]
    }
   ],
   "source": [
    "df.info()"
   ]
  },
  {
   "cell_type": "markdown",
   "id": "047707a4",
   "metadata": {},
   "source": [
    "### 3.13 fuel-system"
   ]
  },
  {
   "cell_type": "code",
   "execution_count": 186,
   "id": "3dd5e883",
   "metadata": {},
   "outputs": [
    {
     "data": {
      "text/plain": [
       "fuel-system\n",
       "mpfi    94\n",
       "2bbl    66\n",
       "idi     20\n",
       "1bbl    11\n",
       "spdi     9\n",
       "4bbl     3\n",
       "mfi      1\n",
       "spfi     1\n",
       "Name: count, dtype: int64"
      ]
     },
     "execution_count": 186,
     "metadata": {},
     "output_type": "execute_result"
    }
   ],
   "source": [
    "df['fuel-system'].value_counts()"
   ]
  },
  {
   "cell_type": "code",
   "execution_count": 187,
   "id": "73c1a4cd",
   "metadata": {},
   "outputs": [],
   "source": [
    "df = pd.get_dummies(df, columns = ['fuel-system'],dtype= int)"
   ]
  },
  {
   "cell_type": "markdown",
   "id": "c33e2a56",
   "metadata": {},
   "source": [
    "### 3.14 bore "
   ]
  },
  {
   "cell_type": "code",
   "execution_count": 188,
   "id": "7a4040c6",
   "metadata": {},
   "outputs": [],
   "source": [
    "# df['bore'].value_counts()"
   ]
  },
  {
   "cell_type": "code",
   "execution_count": 189,
   "id": "89ad4424",
   "metadata": {},
   "outputs": [],
   "source": [
    "df['bore'] = df['bore'].astype(float)"
   ]
  },
  {
   "cell_type": "code",
   "execution_count": 190,
   "id": "aedac1ac",
   "metadata": {},
   "outputs": [
    {
     "data": {
      "text/plain": [
       "4"
      ]
     },
     "execution_count": 190,
     "metadata": {},
     "output_type": "execute_result"
    }
   ],
   "source": [
    "df['bore'].isna().sum()"
   ]
  },
  {
   "cell_type": "code",
   "execution_count": 191,
   "id": "4367e6b8",
   "metadata": {},
   "outputs": [
    {
     "data": {
      "text/plain": [
       "<Axes: xlabel='bore', ylabel='Density'>"
      ]
     },
     "execution_count": 191,
     "metadata": {},
     "output_type": "execute_result"
    },
    {
     "data": {
      "image/png": "[encoded data removed]",
      "text/plain": [
       "<Figure size 640x480 with 1 Axes>"
      ]
     },
     "metadata": {},
     "output_type": "display_data"
    }
   ],
   "source": [
    "sns.kdeplot(df['bore'])"
   ]
  },
  {
   "cell_type": "code",
   "execution_count": 192,
   "id": "fe97f64a",
   "metadata": {},
   "outputs": [],
   "source": [
    "df['bore'].fillna(df['bore'].median(), inplace=True)"
   ]
  },
  {
   "cell_type": "code",
   "execution_count": 193,
   "id": "b774d6cb",
   "metadata": {},
   "outputs": [],
   "source": [
    "# df.info()"
   ]
  },
  {
   "cell_type": "markdown",
   "id": "5b691ebb",
   "metadata": {},
   "source": [
    "### 3.15 stroke"
   ]
  },
  {
   "cell_type": "code",
   "execution_count": 194,
   "id": "9d56acee",
   "metadata": {},
   "outputs": [],
   "source": [
    "# df.stroke.value_counts()"
   ]
  },
  {
   "cell_type": "code",
   "execution_count": 195,
   "id": "dd41678b",
   "metadata": {},
   "outputs": [
    {
     "data": {
      "text/plain": [
       "4"
      ]
     },
     "execution_count": 195,
     "metadata": {},
     "output_type": "execute_result"
    }
   ],
   "source": [
    "df.stroke.isna().sum()"
   ]
  },
  {
   "cell_type": "code",
   "execution_count": 196,
   "id": "80092f90",
   "metadata": {},
   "outputs": [],
   "source": [
    "df.stroke.fillna(df.stroke.median(), inplace=True)"
   ]
  },
  {
   "cell_type": "code",
   "execution_count": 197,
   "id": "a4b6f8e6",
   "metadata": {},
   "outputs": [
    {
     "data": {
      "text/plain": [
       "0"
      ]
     },
     "execution_count": 197,
     "metadata": {},
     "output_type": "execute_result"
    }
   ],
   "source": [
    "df.stroke.isna().sum()"
   ]
  },
  {
   "cell_type": "code",
   "execution_count": 198,
   "id": "93a635a9",
   "metadata": {},
   "outputs": [],
   "source": [
    "df.stroke = df.stroke.astype(float)"
   ]
  },
  {
   "cell_type": "markdown",
   "id": "11ca67e5",
   "metadata": {},
   "source": [
    "### 3.16 horsepower"
   ]
  },
  {
   "cell_type": "code",
   "execution_count": 199,
   "id": "c633c951",
   "metadata": {},
   "outputs": [
    {
     "data": {
      "text/plain": [
       "0      111\n",
       "1      111\n",
       "2      154\n",
       "3      102\n",
       "4      115\n",
       "      ... \n",
       "200    114\n",
       "201    160\n",
       "202    134\n",
       "203    106\n",
       "204    114\n",
       "Name: horsepower, Length: 205, dtype: object"
      ]
     },
     "execution_count": 199,
     "metadata": {},
     "output_type": "execute_result"
    }
   ],
   "source": [
    "df['horsepower']"
   ]
  },
  {
   "cell_type": "code",
   "execution_count": 200,
   "id": "448c57b7",
   "metadata": {},
   "outputs": [
    {
     "data": {
      "text/plain": [
       "2"
      ]
     },
     "execution_count": 200,
     "metadata": {},
     "output_type": "execute_result"
    }
   ],
   "source": [
    "df['horsepower'].isna().sum()"
   ]
  },
  {
   "cell_type": "code",
   "execution_count": 201,
   "id": "efbf8ac9",
   "metadata": {},
   "outputs": [
    {
     "data": {
      "text/plain": [
       "95.0"
      ]
     },
     "execution_count": 201,
     "metadata": {},
     "output_type": "execute_result"
    }
   ],
   "source": [
    "df['horsepower'].median()"
   ]
  },
  {
   "cell_type": "code",
   "execution_count": 202,
   "id": "420df009",
   "metadata": {},
   "outputs": [],
   "source": [
    "df['horsepower'].fillna(df['horsepower'].median(), inplace=True)"
   ]
  },
  {
   "cell_type": "code",
   "execution_count": 203,
   "id": "8b49a103",
   "metadata": {},
   "outputs": [],
   "source": [
    "df['horsepower'] = df['horsepower'].astype(int)"
   ]
  },
  {
   "cell_type": "code",
   "execution_count": 204,
   "id": "b3be6e23",
   "metadata": {},
   "outputs": [
    {
     "data": {
      "text/plain": [
       "<Axes: xlabel='horsepower', ylabel='Density'>"
      ]
     },
     "execution_count": 204,
     "metadata": {},
     "output_type": "execute_result"
    },
    {
     "data": {
      "image/png": "[encoded data removed]",
      "text/plain": [
       "<Figure size 640x480 with 1 Axes>"
      ]
     },
     "metadata": {},
     "output_type": "display_data"
    }
   ],
   "source": [
    "sns.kdeplot(df['horsepower'])"
   ]
  },
  {
   "cell_type": "code",
   "execution_count": 205,
   "id": "112af69b",
   "metadata": {},
   "outputs": [
    {
     "name": "stdout",
     "output_type": "stream",
     "text": [
      "<class 'pandas.core.frame.DataFrame'>\n",
      "RangeIndex: 205 entries, 0 to 204\n",
      "Data columns (total 66 columns):\n",
      " #   Column                  Non-Null Count  Dtype  \n",
      "---  ------                  --------------  -----  \n",
      " 0   symboling               205 non-null    int64  \n",
      " 1   normalized-losses       205 non-null    int32  \n",
      " 2   fuel-type               205 non-null    int64  \n",
      " 3   aspiration              205 non-null    int64  \n",
      " 4   num-of-doors            205 non-null    int32  \n",
      " 5   engine-location         205 non-null    int64  \n",
      " 6   wheel-base              205 non-null    float64\n",
      " 7   length                  205 non-null    float64\n",
      " 8   width                   205 non-null    float64\n",
      " 9   height                  205 non-null    float64\n",
      " 10  curb-weight             205 non-null    int64  \n",
      " 11  num-of-cylinders        205 non-null    int64  \n",
      " 12  engine-size             205 non-null    int64  \n",
      " 13  bore                    205 non-null    float64\n",
      " 14  stroke                  205 non-null    float64\n",
      " 15  compression-ratio       205 non-null    float64\n",
      " 16  horsepower              205 non-null    int32  \n",
      " 17  peak-rpm                203 non-null    object \n",
      " 18  city-mpg                205 non-null    int64  \n",
      " 19  highway-mpg             205 non-null    int64  \n",
      " 20  price                   201 non-null    object \n",
      " 21  make_alfa-romero        205 non-null    int32  \n",
      " 22  make_audi               205 non-null    int32  \n",
      " 23  make_bmw                205 non-null    int32  \n",
      " 24  make_chevrolet          205 non-null    int32  \n",
      " 25  make_dodge              205 non-null    int32  \n",
      " 26  make_honda              205 non-null    int32  \n",
      " 27  make_isuzu              205 non-null    int32  \n",
      " 28  make_jaguar             205 non-null    int32  \n",
      " 29  make_mazda              205 non-null    int32  \n",
      " 30  make_mercedes-benz      205 non-null    int32  \n",
      " 31  make_mercury            205 non-null    int32  \n",
      " 32  make_mitsubishi         205 non-null    int32  \n",
      " 33  make_nissan             205 non-null    int32  \n",
      " 34  make_peugot             205 non-null    int32  \n",
      " 35  make_plymouth           205 non-null    int32  \n",
      " 36  make_porsche            205 non-null    int32  \n",
      " 37  make_renault            205 non-null    int32  \n",
      " 38  make_saab               205 non-null    int32  \n",
      " 39  make_subaru             205 non-null    int32  \n",
      " 40  make_toyota             205 non-null    int32  \n",
      " 41  make_volkswagen         205 non-null    int32  \n",
      " 42  make_volvo              205 non-null    int32  \n",
      " 43  body-style_convertible  205 non-null    int32  \n",
      " 44  body-style_hardtop      205 non-null    int32  \n",
      " 45  body-style_hatchback    205 non-null    int32  \n",
      " 46  body-style_sedan        205 non-null    int32  \n",
      " 47  body-style_wagon        205 non-null    int32  \n",
      " 48  drive-wheels_4wd        205 non-null    int32  \n",
      " 49  drive-wheels_fwd        205 non-null    int32  \n",
      " 50  drive-wheels_rwd        205 non-null    int32  \n",
      " 51  engine-type_dohc        205 non-null    int32  \n",
      " 52  engine-type_dohcv       205 non-null    int32  \n",
      " 53  engine-type_l           205 non-null    int32  \n",
      " 54  engine-type_ohc         205 non-null    int32  \n",
      " 55  engine-type_ohcf        205 non-null    int32  \n",
      " 56  engine-type_ohcv        205 non-null    int32  \n",
      " 57  engine-type_rotor       205 non-null    int32  \n",
      " 58  fuel-system_1bbl        205 non-null    int32  \n",
      " 59  fuel-system_2bbl        205 non-null    int32  \n",
      " 60  fuel-system_4bbl        205 non-null    int32  \n",
      " 61  fuel-system_idi         205 non-null    int32  \n",
      " 62  fuel-system_mfi         205 non-null    int32  \n",
      " 63  fuel-system_mpfi        205 non-null    int32  \n",
      " 64  fuel-system_spdi        205 non-null    int32  \n",
      " 65  fuel-system_spfi        205 non-null    int32  \n",
      "dtypes: float64(7), int32(48), int64(9), object(2)\n",
      "memory usage: 67.4+ KB\n"
     ]
    }
   ],
   "source": [
    "df.info()"
   ]
  },
  {
   "cell_type": "markdown",
   "id": "f0eb9162",
   "metadata": {},
   "source": [
    "### 3.17 peak-rpm"
   ]
  },
  {
   "cell_type": "code",
   "execution_count": 206,
   "id": "453084f2",
   "metadata": {},
   "outputs": [
    {
     "data": {
      "text/plain": [
       "2"
      ]
     },
     "execution_count": 206,
     "metadata": {},
     "output_type": "execute_result"
    }
   ],
   "source": [
    "df['peak-rpm'].isna().sum()"
   ]
  },
  {
   "cell_type": "code",
   "execution_count": 207,
   "id": "96c7cf01",
   "metadata": {},
   "outputs": [],
   "source": [
    "df['peak-rpm'].fillna(df['peak-rpm'].median(),inplace=True)"
   ]
  },
  {
   "cell_type": "code",
   "execution_count": 208,
   "id": "45c727d9",
   "metadata": {},
   "outputs": [],
   "source": [
    "df['peak-rpm'] = df['peak-rpm'].astype(int)"
   ]
  },
  {
   "cell_type": "code",
   "execution_count": 209,
   "id": "a04dc5ea",
   "metadata": {},
   "outputs": [
    {
     "data": {
      "text/plain": [
       "0"
      ]
     },
     "execution_count": 209,
     "metadata": {},
     "output_type": "execute_result"
    }
   ],
   "source": [
    "df['peak-rpm'].isna().sum()"
   ]
  },
  {
   "cell_type": "code",
   "execution_count": 210,
   "id": "e3c47750",
   "metadata": {},
   "outputs": [
    {
     "data": {
      "text/plain": [
       "dtype('int32')"
      ]
     },
     "execution_count": 210,
     "metadata": {},
     "output_type": "execute_result"
    }
   ],
   "source": [
    "df['peak-rpm'].dtype"
   ]
  },
  {
   "cell_type": "markdown",
   "id": "e00e3d30",
   "metadata": {},
   "source": [
    "### 3.18 price "
   ]
  },
  {
   "cell_type": "code",
   "execution_count": 211,
   "id": "05123a1b",
   "metadata": {},
   "outputs": [
    {
     "data": {
      "text/plain": [
       "0      13495\n",
       "1      16500\n",
       "2      16500\n",
       "3      13950\n",
       "4      17450\n",
       "       ...  \n",
       "200    16845\n",
       "201    19045\n",
       "202    21485\n",
       "203    22470\n",
       "204    22625\n",
       "Name: price, Length: 205, dtype: object"
      ]
     },
     "execution_count": 211,
     "metadata": {},
     "output_type": "execute_result"
    }
   ],
   "source": [
    "df['price']"
   ]
  },
  {
   "cell_type": "code",
   "execution_count": 212,
   "id": "db6f8c70",
   "metadata": {},
   "outputs": [],
   "source": [
    "df['price'].fillna(df['price'].median(), inplace=True)"
   ]
  },
  {
   "cell_type": "code",
   "execution_count": 213,
   "id": "0abb480c",
   "metadata": {},
   "outputs": [],
   "source": [
    "df['price'] = df['price'].astype(int)"
   ]
  },
  {
   "cell_type": "code",
   "execution_count": 214,
   "id": "a61edaaa",
   "metadata": {},
   "outputs": [
    {
     "name": "stdout",
     "output_type": "stream",
     "text": [
      "<class 'pandas.core.frame.DataFrame'>\n",
      "RangeIndex: 205 entries, 0 to 204\n",
      "Data columns (total 66 columns):\n",
      " #   Column                  Non-Null Count  Dtype  \n",
      "---  ------                  --------------  -----  \n",
      " 0   symboling               205 non-null    int64  \n",
      " 1   normalized-losses       205 non-null    int32  \n",
      " 2   fuel-type               205 non-null    int64  \n",
      " 3   aspiration              205 non-null    int64  \n",
      " 4   num-of-doors            205 non-null    int32  \n",
      " 5   engine-location         205 non-null    int64  \n",
      " 6   wheel-base              205 non-null    float64\n",
      " 7   length                  205 non-null    float64\n",
      " 8   width                   205 non-null    float64\n",
      " 9   height                  205 non-null    float64\n",
      " 10  curb-weight             205 non-null    int64  \n",
      " 11  num-of-cylinders        205 non-null    int64  \n",
      " 12  engine-size             205 non-null    int64  \n",
      " 13  bore                    205 non-null    float64\n",
      " 14  stroke                  205 non-null    float64\n",
      " 15  compression-ratio       205 non-null    float64\n",
      " 16  horsepower              205 non-null    int32  \n",
      " 17  peak-rpm                205 non-null    int32  \n",
      " 18  city-mpg                205 non-null    int64  \n",
      " 19  highway-mpg             205 non-null    int64  \n",
      " 20  price                   205 non-null    int32  \n",
      " 21  make_alfa-romero        205 non-null    int32  \n",
      " 22  make_audi               205 non-null    int32  \n",
      " 23  make_bmw                205 non-null    int32  \n",
      " 24  make_chevrolet          205 non-null    int32  \n",
      " 25  make_dodge              205 non-null    int32  \n",
      " 26  make_honda              205 non-null    int32  \n",
      " 27  make_isuzu              205 non-null    int32  \n",
      " 28  make_jaguar             205 non-null    int32  \n",
      " 29  make_mazda              205 non-null    int32  \n",
      " 30  make_mercedes-benz      205 non-null    int32  \n",
      " 31  make_mercury            205 non-null    int32  \n",
      " 32  make_mitsubishi         205 non-null    int32  \n",
      " 33  make_nissan             205 non-null    int32  \n",
      " 34  make_peugot             205 non-null    int32  \n",
      " 35  make_plymouth           205 non-null    int32  \n",
      " 36  make_porsche            205 non-null    int32  \n",
      " 37  make_renault            205 non-null    int32  \n",
      " 38  make_saab               205 non-null    int32  \n",
      " 39  make_subaru             205 non-null    int32  \n",
      " 40  make_toyota             205 non-null    int32  \n",
      " 41  make_volkswagen         205 non-null    int32  \n",
      " 42  make_volvo              205 non-null    int32  \n",
      " 43  body-style_convertible  205 non-null    int32  \n",
      " 44  body-style_hardtop      205 non-null    int32  \n",
      " 45  body-style_hatchback    205 non-null    int32  \n",
      " 46  body-style_sedan        205 non-null    int32  \n",
      " 47  body-style_wagon        205 non-null    int32  \n",
      " 48  drive-wheels_4wd        205 non-null    int32  \n",
      " 49  drive-wheels_fwd        205 non-null    int32  \n",
      " 50  drive-wheels_rwd        205 non-null    int32  \n",
      " 51  engine-type_dohc        205 non-null    int32  \n",
      " 52  engine-type_dohcv       205 non-null    int32  \n",
      " 53  engine-type_l           205 non-null    int32  \n",
      " 54  engine-type_ohc         205 non-null    int32  \n",
      " 55  engine-type_ohcf        205 non-null    int32  \n",
      " 56  engine-type_ohcv        205 non-null    int32  \n",
      " 57  engine-type_rotor       205 non-null    int32  \n",
      " 58  fuel-system_1bbl        205 non-null    int32  \n",
      " 59  fuel-system_2bbl        205 non-null    int32  \n",
      " 60  fuel-system_4bbl        205 non-null    int32  \n",
      " 61  fuel-system_idi         205 non-null    int32  \n",
      " 62  fuel-system_mfi         205 non-null    int32  \n",
      " 63  fuel-system_mpfi        205 non-null    int32  \n",
      " 64  fuel-system_spdi        205 non-null    int32  \n",
      " 65  fuel-system_spfi        205 non-null    int32  \n",
      "dtypes: float64(7), int32(50), int64(9)\n",
      "memory usage: 65.8 KB\n"
     ]
    }
   ],
   "source": [
    "df.info()"
   ]
  },
  {
   "cell_type": "raw",
   "id": "763495d3",
   "metadata": {},
   "source": [
    "### Assumptions \n",
    "1. Linearity >> R - value  Coefficient of correlation. \n",
    "2. indpedenece >> \n",
    "3. No Multicolinearity >> VIF"
   ]
  },
  {
   "cell_type": "markdown",
   "id": "daa9b51a",
   "metadata": {},
   "source": [
    "# Checking Pearson Correleation"
   ]
  },
  {
   "cell_type": "code",
   "execution_count": 102,
   "id": "abac983f",
   "metadata": {},
   "outputs": [
    {
     "data": {
      "text/html": [
       "<div>\n",
       "<style scoped>\n",
       "    .dataframe tbody tr th:only-of-type {\n",
       "        vertical-align: middle;\n",
       "    }\n",
       "\n",
       "    .dataframe tbody tr th {\n",
       "        vertical-align: top;\n",
       "    }\n",
       "\n",
       "    .dataframe thead th {\n",
       "        text-align: right;\n",
       "    }\n",
       "</style>\n",
       "<table border=\"1\" class=\"dataframe\">\n",
       "  <thead>\n",
       "    <tr style=\"text-align: right;\">\n",
       "      <th></th>\n",
       "      <th>symboling</th>\n",
       "      <th>normalized-losses</th>\n",
       "      <th>fuel-type</th>\n",
       "      <th>aspiration</th>\n",
       "      <th>num-of-doors</th>\n",
       "      <th>engine-location</th>\n",
       "      <th>wheel-base</th>\n",
       "      <th>length</th>\n",
       "      <th>width</th>\n",
       "      <th>height</th>\n",
       "      <th>...</th>\n",
       "      <th>engine-type_ohcv</th>\n",
       "      <th>engine-type_rotor</th>\n",
       "      <th>fuel-system_1bbl</th>\n",
       "      <th>fuel-system_2bbl</th>\n",
       "      <th>fuel-system_4bbl</th>\n",
       "      <th>fuel-system_idi</th>\n",
       "      <th>fuel-system_mfi</th>\n",
       "      <th>fuel-system_mpfi</th>\n",
       "      <th>fuel-system_spdi</th>\n",
       "      <th>fuel-system_spfi</th>\n",
       "    </tr>\n",
       "  </thead>\n",
       "  <tbody>\n",
       "    <tr>\n",
       "      <th>symboling</th>\n",
       "      <td>1.000000</td>\n",
       "      <td>0.457484</td>\n",
       "      <td>0.194311</td>\n",
       "      <td>-0.059866</td>\n",
       "      <td>-0.663595</td>\n",
       "      <td>0.212471</td>\n",
       "      <td>-0.531954</td>\n",
       "      <td>-0.357612</td>\n",
       "      <td>-0.232919</td>\n",
       "      <td>-0.541038</td>\n",
       "      <td>...</td>\n",
       "      <td>-0.013597</td>\n",
       "      <td>0.245950</td>\n",
       "      <td>-0.037911</td>\n",
       "      <td>-0.034069</td>\n",
       "      <td>0.212471</td>\n",
       "      <td>-0.194311</td>\n",
       "      <td>0.122067</td>\n",
       "      <td>0.012532</td>\n",
       "      <td>0.181939</td>\n",
       "      <td>0.065707</td>\n",
       "    </tr>\n",
       "    <tr>\n",
       "      <th>normalized-losses</th>\n",
       "      <td>0.457484</td>\n",
       "      <td>1.000000</td>\n",
       "      <td>0.104668</td>\n",
       "      <td>-0.011273</td>\n",
       "      <td>-0.348850</td>\n",
       "      <td>-0.021510</td>\n",
       "      <td>-0.073709</td>\n",
       "      <td>-0.006837</td>\n",
       "      <td>0.058378</td>\n",
       "      <td>-0.365674</td>\n",
       "      <td>...</td>\n",
       "      <td>0.130717</td>\n",
       "      <td>0.130721</td>\n",
       "      <td>-0.122539</td>\n",
       "      <td>-0.123927</td>\n",
       "      <td>0.112927</td>\n",
       "      <td>-0.104668</td>\n",
       "      <td>0.053844</td>\n",
       "      <td>0.179458</td>\n",
       "      <td>0.052231</td>\n",
       "      <td>-0.012358</td>\n",
       "    </tr>\n",
       "    <tr>\n",
       "      <th>fuel-type</th>\n",
       "      <td>0.194311</td>\n",
       "      <td>0.104668</td>\n",
       "      <td>1.000000</td>\n",
       "      <td>-0.401397</td>\n",
       "      <td>-0.188496</td>\n",
       "      <td>0.040070</td>\n",
       "      <td>-0.308346</td>\n",
       "      <td>-0.212679</td>\n",
       "      <td>-0.233880</td>\n",
       "      <td>-0.284631</td>\n",
       "      <td>...</td>\n",
       "      <td>0.085556</td>\n",
       "      <td>0.046383</td>\n",
       "      <td>0.078293</td>\n",
       "      <td>0.226565</td>\n",
       "      <td>0.040070</td>\n",
       "      <td>-1.000000</td>\n",
       "      <td>0.023020</td>\n",
       "      <td>0.302574</td>\n",
       "      <td>0.070457</td>\n",
       "      <td>0.023020</td>\n",
       "    </tr>\n",
       "    <tr>\n",
       "      <th>aspiration</th>\n",
       "      <td>-0.059866</td>\n",
       "      <td>-0.011273</td>\n",
       "      <td>-0.401397</td>\n",
       "      <td>1.000000</td>\n",
       "      <td>0.052803</td>\n",
       "      <td>-0.057191</td>\n",
       "      <td>0.257611</td>\n",
       "      <td>0.234539</td>\n",
       "      <td>0.300567</td>\n",
       "      <td>0.087311</td>\n",
       "      <td>...</td>\n",
       "      <td>-0.070070</td>\n",
       "      <td>-0.066203</td>\n",
       "      <td>-0.111748</td>\n",
       "      <td>-0.323378</td>\n",
       "      <td>-0.057191</td>\n",
       "      <td>0.401397</td>\n",
       "      <td>0.149190</td>\n",
       "      <td>-0.050041</td>\n",
       "      <td>0.394703</td>\n",
       "      <td>-0.032857</td>\n",
       "    </tr>\n",
       "    <tr>\n",
       "      <th>num-of-doors</th>\n",
       "      <td>-0.663595</td>\n",
       "      <td>-0.348850</td>\n",
       "      <td>-0.188496</td>\n",
       "      <td>0.052803</td>\n",
       "      <td>1.000000</td>\n",
       "      <td>-0.139129</td>\n",
       "      <td>0.439635</td>\n",
       "      <td>0.385675</td>\n",
       "      <td>0.197735</td>\n",
       "      <td>0.540286</td>\n",
       "      <td>...</td>\n",
       "      <td>-0.054764</td>\n",
       "      <td>-0.161052</td>\n",
       "      <td>-0.097150</td>\n",
       "      <td>0.013769</td>\n",
       "      <td>-0.139129</td>\n",
       "      <td>0.188496</td>\n",
       "      <td>-0.079932</td>\n",
       "      <td>0.035746</td>\n",
       "      <td>-0.148565</td>\n",
       "      <td>-0.079932</td>\n",
       "    </tr>\n",
       "    <tr>\n",
       "      <th>...</th>\n",
       "      <td>...</td>\n",
       "      <td>...</td>\n",
       "      <td>...</td>\n",
       "      <td>...</td>\n",
       "      <td>...</td>\n",
       "      <td>...</td>\n",
       "      <td>...</td>\n",
       "      <td>...</td>\n",
       "      <td>...</td>\n",
       "      <td>...</td>\n",
       "      <td>...</td>\n",
       "      <td>...</td>\n",
       "      <td>...</td>\n",
       "      <td>...</td>\n",
       "      <td>...</td>\n",
       "      <td>...</td>\n",
       "      <td>...</td>\n",
       "      <td>...</td>\n",
       "      <td>...</td>\n",
       "      <td>...</td>\n",
       "      <td>...</td>\n",
       "    </tr>\n",
       "    <tr>\n",
       "      <th>fuel-system_idi</th>\n",
       "      <td>-0.194311</td>\n",
       "      <td>-0.104668</td>\n",
       "      <td>-1.000000</td>\n",
       "      <td>0.401397</td>\n",
       "      <td>0.188496</td>\n",
       "      <td>-0.040070</td>\n",
       "      <td>0.308346</td>\n",
       "      <td>0.212679</td>\n",
       "      <td>0.233880</td>\n",
       "      <td>0.284631</td>\n",
       "      <td>...</td>\n",
       "      <td>-0.085556</td>\n",
       "      <td>-0.046383</td>\n",
       "      <td>-0.078293</td>\n",
       "      <td>-0.226565</td>\n",
       "      <td>-0.040070</td>\n",
       "      <td>1.000000</td>\n",
       "      <td>-0.023020</td>\n",
       "      <td>-0.302574</td>\n",
       "      <td>-0.070457</td>\n",
       "      <td>-0.023020</td>\n",
       "    </tr>\n",
       "    <tr>\n",
       "      <th>fuel-system_mfi</th>\n",
       "      <td>0.122067</td>\n",
       "      <td>0.053844</td>\n",
       "      <td>0.023020</td>\n",
       "      <td>0.149190</td>\n",
       "      <td>-0.079932</td>\n",
       "      <td>-0.008532</td>\n",
       "      <td>-0.033294</td>\n",
       "      <td>-0.004831</td>\n",
       "      <td>0.012832</td>\n",
       "      <td>-0.101245</td>\n",
       "      <td>...</td>\n",
       "      <td>-0.018218</td>\n",
       "      <td>-0.009877</td>\n",
       "      <td>-0.016672</td>\n",
       "      <td>-0.048245</td>\n",
       "      <td>-0.008532</td>\n",
       "      <td>-0.023020</td>\n",
       "      <td>1.000000</td>\n",
       "      <td>-0.064430</td>\n",
       "      <td>-0.015003</td>\n",
       "      <td>-0.004902</td>\n",
       "    </tr>\n",
       "    <tr>\n",
       "      <th>fuel-system_mpfi</th>\n",
       "      <td>0.012532</td>\n",
       "      <td>0.179458</td>\n",
       "      <td>0.302574</td>\n",
       "      <td>-0.050041</td>\n",
       "      <td>0.035746</td>\n",
       "      <td>0.132429</td>\n",
       "      <td>0.348891</td>\n",
       "      <td>0.511374</td>\n",
       "      <td>0.461896</td>\n",
       "      <td>0.108685</td>\n",
       "      <td>...</td>\n",
       "      <td>0.282760</td>\n",
       "      <td>-0.059039</td>\n",
       "      <td>-0.219128</td>\n",
       "      <td>-0.634114</td>\n",
       "      <td>-0.112147</td>\n",
       "      <td>-0.302574</td>\n",
       "      <td>-0.064430</td>\n",
       "      <td>1.000000</td>\n",
       "      <td>-0.197195</td>\n",
       "      <td>-0.064430</td>\n",
       "    </tr>\n",
       "    <tr>\n",
       "      <th>fuel-system_spdi</th>\n",
       "      <td>0.181939</td>\n",
       "      <td>0.052231</td>\n",
       "      <td>0.070457</td>\n",
       "      <td>0.394703</td>\n",
       "      <td>-0.148565</td>\n",
       "      <td>-0.026114</td>\n",
       "      <td>-0.117359</td>\n",
       "      <td>-0.079790</td>\n",
       "      <td>-0.046399</td>\n",
       "      <td>-0.278615</td>\n",
       "      <td>...</td>\n",
       "      <td>-0.055759</td>\n",
       "      <td>-0.030229</td>\n",
       "      <td>-0.051026</td>\n",
       "      <td>-0.147658</td>\n",
       "      <td>-0.026114</td>\n",
       "      <td>-0.070457</td>\n",
       "      <td>-0.015003</td>\n",
       "      <td>-0.197195</td>\n",
       "      <td>1.000000</td>\n",
       "      <td>-0.015003</td>\n",
       "    </tr>\n",
       "    <tr>\n",
       "      <th>fuel-system_spfi</th>\n",
       "      <td>0.065707</td>\n",
       "      <td>-0.012358</td>\n",
       "      <td>0.023020</td>\n",
       "      <td>-0.032857</td>\n",
       "      <td>-0.079932</td>\n",
       "      <td>-0.008532</td>\n",
       "      <td>-0.032129</td>\n",
       "      <td>-0.008245</td>\n",
       "      <td>-0.023158</td>\n",
       "      <td>-0.066778</td>\n",
       "      <td>...</td>\n",
       "      <td>-0.018218</td>\n",
       "      <td>-0.009877</td>\n",
       "      <td>-0.016672</td>\n",
       "      <td>-0.048245</td>\n",
       "      <td>-0.008532</td>\n",
       "      <td>-0.023020</td>\n",
       "      <td>-0.004902</td>\n",
       "      <td>-0.064430</td>\n",
       "      <td>-0.015003</td>\n",
       "      <td>1.000000</td>\n",
       "    </tr>\n",
       "  </tbody>\n",
       "</table>\n",
       "<p>66 rows × 66 columns</p>\n",
       "</div>"
      ],
      "text/plain": [
       "                   symboling  normalized-losses  fuel-type  aspiration  \\\n",
       "symboling           1.000000           0.457484   0.194311   -0.059866   \n",
       "normalized-losses   0.457484           1.000000   0.104668   -0.011273   \n",
       "fuel-type           0.194311           0.104668   1.000000   -0.401397   \n",
       "aspiration         -0.059866          -0.011273  -0.401397    1.000000   \n",
       "num-of-doors       -0.663595          -0.348850  -0.188496    0.052803   \n",
       "...                      ...                ...        ...         ...   \n",
       "fuel-system_idi    -0.194311          -0.104668  -1.000000    0.401397   \n",
       "fuel-system_mfi     0.122067           0.053844   0.023020    0.149190   \n",
       "fuel-system_mpfi    0.012532           0.179458   0.302574   -0.050041   \n",
       "fuel-system_spdi    0.181939           0.052231   0.070457    0.394703   \n",
       "fuel-system_spfi    0.065707          -0.012358   0.023020   -0.032857   \n",
       "\n",
       "                   num-of-doors  engine-location  wheel-base    length  \\\n",
       "symboling             -0.663595         0.212471   -0.531954 -0.357612   \n",
       "normalized-losses     -0.348850        -0.021510   -0.073709 -0.006837   \n",
       "fuel-type             -0.188496         0.040070   -0.308346 -0.212679   \n",
       "aspiration             0.052803        -0.057191    0.257611  0.234539   \n",
       "num-of-doors           1.000000        -0.139129    0.439635  0.385675   \n",
       "...                         ...              ...         ...       ...   \n",
       "fuel-system_idi        0.188496        -0.040070    0.308346  0.212679   \n",
       "fuel-system_mfi       -0.079932        -0.008532   -0.033294 -0.004831   \n",
       "fuel-system_mpfi       0.035746         0.132429    0.348891  0.511374   \n",
       "fuel-system_spdi      -0.148565        -0.026114   -0.117359 -0.079790   \n",
       "fuel-system_spfi      -0.079932        -0.008532   -0.032129 -0.008245   \n",
       "\n",
       "                      width    height  ...  engine-type_ohcv  \\\n",
       "symboling         -0.232919 -0.541038  ...         -0.013597   \n",
       "normalized-losses  0.058378 -0.365674  ...          0.130717   \n",
       "fuel-type         -0.233880 -0.284631  ...          0.085556   \n",
       "aspiration         0.300567  0.087311  ...         -0.070070   \n",
       "num-of-doors       0.197735  0.540286  ...         -0.054764   \n",
       "...                     ...       ...  ...               ...   \n",
       "fuel-system_idi    0.233880  0.284631  ...         -0.085556   \n",
       "fuel-system_mfi    0.012832 -0.101245  ...         -0.018218   \n",
       "fuel-system_mpfi   0.461896  0.108685  ...          0.282760   \n",
       "fuel-system_spdi  -0.046399 -0.278615  ...         -0.055759   \n",
       "fuel-system_spfi  -0.023158 -0.066778  ...         -0.018218   \n",
       "\n",
       "                   engine-type_rotor  fuel-system_1bbl  fuel-system_2bbl  \\\n",
       "symboling                   0.245950         -0.037911         -0.034069   \n",
       "normalized-losses           0.130721         -0.122539         -0.123927   \n",
       "fuel-type                   0.046383          0.078293          0.226565   \n",
       "aspiration                 -0.066203         -0.111748         -0.323378   \n",
       "num-of-doors               -0.161052         -0.097150          0.013769   \n",
       "...                              ...               ...               ...   \n",
       "fuel-system_idi            -0.046383         -0.078293         -0.226565   \n",
       "fuel-system_mfi            -0.009877         -0.016672         -0.048245   \n",
       "fuel-system_mpfi           -0.059039         -0.219128         -0.634114   \n",
       "fuel-system_spdi           -0.030229         -0.051026         -0.147658   \n",
       "fuel-system_spfi           -0.009877         -0.016672         -0.048245   \n",
       "\n",
       "                   fuel-system_4bbl  fuel-system_idi  fuel-system_mfi  \\\n",
       "symboling                  0.212471        -0.194311         0.122067   \n",
       "normalized-losses          0.112927        -0.104668         0.053844   \n",
       "fuel-type                  0.040070        -1.000000         0.023020   \n",
       "aspiration                -0.057191         0.401397         0.149190   \n",
       "num-of-doors              -0.139129         0.188496        -0.079932   \n",
       "...                             ...              ...              ...   \n",
       "fuel-system_idi           -0.040070         1.000000        -0.023020   \n",
       "fuel-system_mfi           -0.008532        -0.023020         1.000000   \n",
       "fuel-system_mpfi          -0.112147        -0.302574        -0.064430   \n",
       "fuel-system_spdi          -0.026114        -0.070457        -0.015003   \n",
       "fuel-system_spfi          -0.008532        -0.023020        -0.004902   \n",
       "\n",
       "                   fuel-system_mpfi  fuel-system_spdi  fuel-system_spfi  \n",
       "symboling                  0.012532          0.181939          0.065707  \n",
       "normalized-losses          0.179458          0.052231         -0.012358  \n",
       "fuel-type                  0.302574          0.070457          0.023020  \n",
       "aspiration                -0.050041          0.394703         -0.032857  \n",
       "num-of-doors               0.035746         -0.148565         -0.079932  \n",
       "...                             ...               ...               ...  \n",
       "fuel-system_idi           -0.302574         -0.070457         -0.023020  \n",
       "fuel-system_mfi           -0.064430         -0.015003         -0.004902  \n",
       "fuel-system_mpfi           1.000000         -0.197195         -0.064430  \n",
       "fuel-system_spdi          -0.197195          1.000000         -0.015003  \n",
       "fuel-system_spfi          -0.064430         -0.015003          1.000000  \n",
       "\n",
       "[66 rows x 66 columns]"
      ]
     },
     "execution_count": 102,
     "metadata": {},
     "output_type": "execute_result"
    }
   ],
   "source": [
    "df.corr()"
   ]
  },
  {
   "cell_type": "code",
   "execution_count": 103,
   "id": "4570402e",
   "metadata": {},
   "outputs": [
    {
     "data": {
      "text/html": [
       "<div>\n",
       "<style scoped>\n",
       "    .dataframe tbody tr th:only-of-type {\n",
       "        vertical-align: middle;\n",
       "    }\n",
       "\n",
       "    .dataframe tbody tr th {\n",
       "        vertical-align: top;\n",
       "    }\n",
       "\n",
       "    .dataframe thead th {\n",
       "        text-align: right;\n",
       "    }\n",
       "</style>\n",
       "<table border=\"1\" class=\"dataframe\">\n",
       "  <thead>\n",
       "    <tr style=\"text-align: right;\">\n",
       "      <th></th>\n",
       "      <th>symboling</th>\n",
       "      <th>normalized-losses</th>\n",
       "      <th>fuel-type</th>\n",
       "      <th>aspiration</th>\n",
       "      <th>num-of-doors</th>\n",
       "      <th>engine-location</th>\n",
       "      <th>wheel-base</th>\n",
       "      <th>length</th>\n",
       "      <th>width</th>\n",
       "      <th>height</th>\n",
       "    </tr>\n",
       "  </thead>\n",
       "  <tbody>\n",
       "    <tr>\n",
       "      <th>symboling</th>\n",
       "      <td>1.000000</td>\n",
       "      <td>0.457484</td>\n",
       "      <td>0.194311</td>\n",
       "      <td>-0.059866</td>\n",
       "      <td>-0.663595</td>\n",
       "      <td>0.212471</td>\n",
       "      <td>-0.531954</td>\n",
       "      <td>-0.357612</td>\n",
       "      <td>-0.232919</td>\n",
       "      <td>-0.541038</td>\n",
       "    </tr>\n",
       "    <tr>\n",
       "      <th>normalized-losses</th>\n",
       "      <td>0.457484</td>\n",
       "      <td>1.000000</td>\n",
       "      <td>0.104668</td>\n",
       "      <td>-0.011273</td>\n",
       "      <td>-0.348850</td>\n",
       "      <td>-0.021510</td>\n",
       "      <td>-0.073709</td>\n",
       "      <td>-0.006837</td>\n",
       "      <td>0.058378</td>\n",
       "      <td>-0.365674</td>\n",
       "    </tr>\n",
       "    <tr>\n",
       "      <th>fuel-type</th>\n",
       "      <td>0.194311</td>\n",
       "      <td>0.104668</td>\n",
       "      <td>1.000000</td>\n",
       "      <td>-0.401397</td>\n",
       "      <td>-0.188496</td>\n",
       "      <td>0.040070</td>\n",
       "      <td>-0.308346</td>\n",
       "      <td>-0.212679</td>\n",
       "      <td>-0.233880</td>\n",
       "      <td>-0.284631</td>\n",
       "    </tr>\n",
       "    <tr>\n",
       "      <th>aspiration</th>\n",
       "      <td>-0.059866</td>\n",
       "      <td>-0.011273</td>\n",
       "      <td>-0.401397</td>\n",
       "      <td>1.000000</td>\n",
       "      <td>0.052803</td>\n",
       "      <td>-0.057191</td>\n",
       "      <td>0.257611</td>\n",
       "      <td>0.234539</td>\n",
       "      <td>0.300567</td>\n",
       "      <td>0.087311</td>\n",
       "    </tr>\n",
       "    <tr>\n",
       "      <th>num-of-doors</th>\n",
       "      <td>-0.663595</td>\n",
       "      <td>-0.348850</td>\n",
       "      <td>-0.188496</td>\n",
       "      <td>0.052803</td>\n",
       "      <td>1.000000</td>\n",
       "      <td>-0.139129</td>\n",
       "      <td>0.439635</td>\n",
       "      <td>0.385675</td>\n",
       "      <td>0.197735</td>\n",
       "      <td>0.540286</td>\n",
       "    </tr>\n",
       "    <tr>\n",
       "      <th>engine-location</th>\n",
       "      <td>0.212471</td>\n",
       "      <td>-0.021510</td>\n",
       "      <td>0.040070</td>\n",
       "      <td>-0.057191</td>\n",
       "      <td>-0.139129</td>\n",
       "      <td>1.000000</td>\n",
       "      <td>-0.187790</td>\n",
       "      <td>-0.050989</td>\n",
       "      <td>-0.051698</td>\n",
       "      <td>-0.106234</td>\n",
       "    </tr>\n",
       "    <tr>\n",
       "      <th>wheel-base</th>\n",
       "      <td>-0.531954</td>\n",
       "      <td>-0.073709</td>\n",
       "      <td>-0.308346</td>\n",
       "      <td>0.257611</td>\n",
       "      <td>0.439635</td>\n",
       "      <td>-0.187790</td>\n",
       "      <td>1.000000</td>\n",
       "      <td>0.874587</td>\n",
       "      <td>0.795144</td>\n",
       "      <td>0.589435</td>\n",
       "    </tr>\n",
       "    <tr>\n",
       "      <th>length</th>\n",
       "      <td>-0.357612</td>\n",
       "      <td>-0.006837</td>\n",
       "      <td>-0.212679</td>\n",
       "      <td>0.234539</td>\n",
       "      <td>0.385675</td>\n",
       "      <td>-0.050989</td>\n",
       "      <td>0.874587</td>\n",
       "      <td>1.000000</td>\n",
       "      <td>0.841118</td>\n",
       "      <td>0.491029</td>\n",
       "    </tr>\n",
       "    <tr>\n",
       "      <th>width</th>\n",
       "      <td>-0.232919</td>\n",
       "      <td>0.058378</td>\n",
       "      <td>-0.233880</td>\n",
       "      <td>0.300567</td>\n",
       "      <td>0.197735</td>\n",
       "      <td>-0.051698</td>\n",
       "      <td>0.795144</td>\n",
       "      <td>0.841118</td>\n",
       "      <td>1.000000</td>\n",
       "      <td>0.279210</td>\n",
       "    </tr>\n",
       "    <tr>\n",
       "      <th>height</th>\n",
       "      <td>-0.541038</td>\n",
       "      <td>-0.365674</td>\n",
       "      <td>-0.284631</td>\n",
       "      <td>0.087311</td>\n",
       "      <td>0.540286</td>\n",
       "      <td>-0.106234</td>\n",
       "      <td>0.589435</td>\n",
       "      <td>0.491029</td>\n",
       "      <td>0.279210</td>\n",
       "      <td>1.000000</td>\n",
       "    </tr>\n",
       "  </tbody>\n",
       "</table>\n",
       "</div>"
      ],
      "text/plain": [
       "                   symboling  normalized-losses  fuel-type  aspiration  \\\n",
       "symboling           1.000000           0.457484   0.194311   -0.059866   \n",
       "normalized-losses   0.457484           1.000000   0.104668   -0.011273   \n",
       "fuel-type           0.194311           0.104668   1.000000   -0.401397   \n",
       "aspiration         -0.059866          -0.011273  -0.401397    1.000000   \n",
       "num-of-doors       -0.663595          -0.348850  -0.188496    0.052803   \n",
       "engine-location     0.212471          -0.021510   0.040070   -0.057191   \n",
       "wheel-base         -0.531954          -0.073709  -0.308346    0.257611   \n",
       "length             -0.357612          -0.006837  -0.212679    0.234539   \n",
       "width              -0.232919           0.058378  -0.233880    0.300567   \n",
       "height             -0.541038          -0.365674  -0.284631    0.087311   \n",
       "\n",
       "                   num-of-doors  engine-location  wheel-base    length  \\\n",
       "symboling             -0.663595         0.212471   -0.531954 -0.357612   \n",
       "normalized-losses     -0.348850        -0.021510   -0.073709 -0.006837   \n",
       "fuel-type             -0.188496         0.040070   -0.308346 -0.212679   \n",
       "aspiration             0.052803        -0.057191    0.257611  0.234539   \n",
       "num-of-doors           1.000000        -0.139129    0.439635  0.385675   \n",
       "engine-location       -0.139129         1.000000   -0.187790 -0.050989   \n",
       "wheel-base             0.439635        -0.187790    1.000000  0.874587   \n",
       "length                 0.385675        -0.050989    0.874587  1.000000   \n",
       "width                  0.197735        -0.051698    0.795144  0.841118   \n",
       "height                 0.540286        -0.106234    0.589435  0.491029   \n",
       "\n",
       "                      width    height  \n",
       "symboling         -0.232919 -0.541038  \n",
       "normalized-losses  0.058378 -0.365674  \n",
       "fuel-type         -0.233880 -0.284631  \n",
       "aspiration         0.300567  0.087311  \n",
       "num-of-doors       0.197735  0.540286  \n",
       "engine-location   -0.051698 -0.106234  \n",
       "wheel-base         0.795144  0.589435  \n",
       "length             0.841118  0.491029  \n",
       "width              1.000000  0.279210  \n",
       "height             0.279210  1.000000  "
      ]
     },
     "execution_count": 103,
     "metadata": {},
     "output_type": "execute_result"
    }
   ],
   "source": [
    "df.iloc[:,0:10].corr()"
   ]
  },
  {
   "cell_type": "code",
   "execution_count": 221,
   "id": "67bdc004",
   "metadata": {},
   "outputs": [
    {
     "data": {
      "text/plain": [
       "<Axes: >"
      ]
     },
     "execution_count": 221,
     "metadata": {},
     "output_type": "execute_result"
    },
    {
     "data": {
      "image/png": "[encoded data removed]",
      "text/plain": [
       "<Figure size 2000x200 with 2 Axes>"
      ]
     },
     "metadata": {},
     "output_type": "display_data"
    }
   ],
   "source": [
    "df.columns\n",
    "col_list = ['symboling', 'normalized-losses', 'fuel-type', 'aspiration',\n",
    "       'num-of-doors', 'engine-location', 'wheel-base', 'length', 'width',\n",
    "       'height', 'curb-weight', 'num-of-cylinders', 'engine-size', 'bore','price']\n",
    "corr = df.loc[:,col_list].corr().tail(1)\n",
    "plt.figure(figsize=(20,2))\n",
    "sns.heatmap(corr,annot = True)"
   ]
  },
  {
   "cell_type": "markdown",
   "id": "7bcfec30",
   "metadata": {},
   "source": [
    "# Checking Spearman Correlation"
   ]
  },
  {
   "cell_type": "code",
   "execution_count": 223,
   "id": "ce39c5c9",
   "metadata": {},
   "outputs": [
    {
     "data": {
      "text/html": [
       "<div>\n",
       "<style scoped>\n",
       "    .dataframe tbody tr th:only-of-type {\n",
       "        vertical-align: middle;\n",
       "    }\n",
       "\n",
       "    .dataframe tbody tr th {\n",
       "        vertical-align: top;\n",
       "    }\n",
       "\n",
       "    .dataframe thead th {\n",
       "        text-align: right;\n",
       "    }\n",
       "</style>\n",
       "<table border=\"1\" class=\"dataframe\">\n",
       "  <thead>\n",
       "    <tr style=\"text-align: right;\">\n",
       "      <th></th>\n",
       "      <th>symboling</th>\n",
       "      <th>normalized-losses</th>\n",
       "      <th>fuel-type</th>\n",
       "      <th>aspiration</th>\n",
       "      <th>num-of-doors</th>\n",
       "      <th>engine-location</th>\n",
       "      <th>wheel-base</th>\n",
       "      <th>length</th>\n",
       "      <th>width</th>\n",
       "      <th>height</th>\n",
       "      <th>...</th>\n",
       "      <th>engine-type_ohcv</th>\n",
       "      <th>engine-type_rotor</th>\n",
       "      <th>fuel-system_1bbl</th>\n",
       "      <th>fuel-system_2bbl</th>\n",
       "      <th>fuel-system_4bbl</th>\n",
       "      <th>fuel-system_idi</th>\n",
       "      <th>fuel-system_mfi</th>\n",
       "      <th>fuel-system_mpfi</th>\n",
       "      <th>fuel-system_spdi</th>\n",
       "      <th>fuel-system_spfi</th>\n",
       "    </tr>\n",
       "  </thead>\n",
       "  <tbody>\n",
       "    <tr>\n",
       "      <th>symboling</th>\n",
       "      <td>1.000000</td>\n",
       "      <td>0.485062</td>\n",
       "      <td>0.209655</td>\n",
       "      <td>-0.076620</td>\n",
       "      <td>-0.677486</td>\n",
       "      <td>0.189089</td>\n",
       "      <td>-0.537958</td>\n",
       "      <td>-0.396365</td>\n",
       "      <td>-0.253528</td>\n",
       "      <td>-0.523124</td>\n",
       "      <td>...</td>\n",
       "      <td>-0.028091</td>\n",
       "      <td>0.218884</td>\n",
       "      <td>-0.036041</td>\n",
       "      <td>0.004550</td>\n",
       "      <td>0.189089</td>\n",
       "      <td>-0.209655</td>\n",
       "      <td>0.108634</td>\n",
       "      <td>-0.003328</td>\n",
       "      <td>0.168527</td>\n",
       "      <td>0.072626</td>\n",
       "    </tr>\n",
       "    <tr>\n",
       "      <th>normalized-losses</th>\n",
       "      <td>0.485062</td>\n",
       "      <td>1.000000</td>\n",
       "      <td>0.105979</td>\n",
       "      <td>-0.001616</td>\n",
       "      <td>-0.382841</td>\n",
       "      <td>-0.001035</td>\n",
       "      <td>-0.106478</td>\n",
       "      <td>-0.004229</td>\n",
       "      <td>0.069225</td>\n",
       "      <td>-0.358708</td>\n",
       "      <td>...</td>\n",
       "      <td>0.093161</td>\n",
       "      <td>0.150966</td>\n",
       "      <td>-0.145799</td>\n",
       "      <td>-0.106764</td>\n",
       "      <td>0.130417</td>\n",
       "      <td>-0.105979</td>\n",
       "      <td>0.064817</td>\n",
       "      <td>0.146174</td>\n",
       "      <td>0.103538</td>\n",
       "      <td>-0.000595</td>\n",
       "    </tr>\n",
       "    <tr>\n",
       "      <th>fuel-type</th>\n",
       "      <td>0.209655</td>\n",
       "      <td>0.105979</td>\n",
       "      <td>1.000000</td>\n",
       "      <td>-0.401397</td>\n",
       "      <td>-0.188496</td>\n",
       "      <td>0.040070</td>\n",
       "      <td>-0.276645</td>\n",
       "      <td>-0.193855</td>\n",
       "      <td>-0.232309</td>\n",
       "      <td>-0.298162</td>\n",
       "      <td>...</td>\n",
       "      <td>0.085556</td>\n",
       "      <td>0.046383</td>\n",
       "      <td>0.078293</td>\n",
       "      <td>0.226565</td>\n",
       "      <td>0.040070</td>\n",
       "      <td>-1.000000</td>\n",
       "      <td>0.023020</td>\n",
       "      <td>0.302574</td>\n",
       "      <td>0.070457</td>\n",
       "      <td>0.023020</td>\n",
       "    </tr>\n",
       "    <tr>\n",
       "      <th>aspiration</th>\n",
       "      <td>-0.076620</td>\n",
       "      <td>-0.001616</td>\n",
       "      <td>-0.401397</td>\n",
       "      <td>1.000000</td>\n",
       "      <td>0.052803</td>\n",
       "      <td>-0.057191</td>\n",
       "      <td>0.226742</td>\n",
       "      <td>0.246698</td>\n",
       "      <td>0.306270</td>\n",
       "      <td>0.108209</td>\n",
       "      <td>...</td>\n",
       "      <td>-0.070070</td>\n",
       "      <td>-0.066203</td>\n",
       "      <td>-0.111748</td>\n",
       "      <td>-0.323378</td>\n",
       "      <td>-0.057191</td>\n",
       "      <td>0.401397</td>\n",
       "      <td>0.149190</td>\n",
       "      <td>-0.050041</td>\n",
       "      <td>0.394703</td>\n",
       "      <td>-0.032857</td>\n",
       "    </tr>\n",
       "    <tr>\n",
       "      <th>num-of-doors</th>\n",
       "      <td>-0.677486</td>\n",
       "      <td>-0.382841</td>\n",
       "      <td>-0.188496</td>\n",
       "      <td>0.052803</td>\n",
       "      <td>1.000000</td>\n",
       "      <td>-0.139129</td>\n",
       "      <td>0.454213</td>\n",
       "      <td>0.368290</td>\n",
       "      <td>0.211484</td>\n",
       "      <td>0.539234</td>\n",
       "      <td>...</td>\n",
       "      <td>-0.054764</td>\n",
       "      <td>-0.161052</td>\n",
       "      <td>-0.097150</td>\n",
       "      <td>0.013769</td>\n",
       "      <td>-0.139129</td>\n",
       "      <td>0.188496</td>\n",
       "      <td>-0.079932</td>\n",
       "      <td>0.035746</td>\n",
       "      <td>-0.148565</td>\n",
       "      <td>-0.079932</td>\n",
       "    </tr>\n",
       "    <tr>\n",
       "      <th>...</th>\n",
       "      <td>...</td>\n",
       "      <td>...</td>\n",
       "      <td>...</td>\n",
       "      <td>...</td>\n",
       "      <td>...</td>\n",
       "      <td>...</td>\n",
       "      <td>...</td>\n",
       "      <td>...</td>\n",
       "      <td>...</td>\n",
       "      <td>...</td>\n",
       "      <td>...</td>\n",
       "      <td>...</td>\n",
       "      <td>...</td>\n",
       "      <td>...</td>\n",
       "      <td>...</td>\n",
       "      <td>...</td>\n",
       "      <td>...</td>\n",
       "      <td>...</td>\n",
       "      <td>...</td>\n",
       "      <td>...</td>\n",
       "      <td>...</td>\n",
       "    </tr>\n",
       "    <tr>\n",
       "      <th>fuel-system_idi</th>\n",
       "      <td>-0.209655</td>\n",
       "      <td>-0.105979</td>\n",
       "      <td>-1.000000</td>\n",
       "      <td>0.401397</td>\n",
       "      <td>0.188496</td>\n",
       "      <td>-0.040070</td>\n",
       "      <td>0.276645</td>\n",
       "      <td>0.193855</td>\n",
       "      <td>0.232309</td>\n",
       "      <td>0.298162</td>\n",
       "      <td>...</td>\n",
       "      <td>-0.085556</td>\n",
       "      <td>-0.046383</td>\n",
       "      <td>-0.078293</td>\n",
       "      <td>-0.226565</td>\n",
       "      <td>-0.040070</td>\n",
       "      <td>1.000000</td>\n",
       "      <td>-0.023020</td>\n",
       "      <td>-0.302574</td>\n",
       "      <td>-0.070457</td>\n",
       "      <td>-0.023020</td>\n",
       "    </tr>\n",
       "    <tr>\n",
       "      <th>fuel-system_mfi</th>\n",
       "      <td>0.108634</td>\n",
       "      <td>0.064817</td>\n",
       "      <td>0.023020</td>\n",
       "      <td>0.149190</td>\n",
       "      <td>-0.079932</td>\n",
       "      <td>-0.008532</td>\n",
       "      <td>-0.027248</td>\n",
       "      <td>0.001184</td>\n",
       "      <td>0.026675</td>\n",
       "      <td>-0.103597</td>\n",
       "      <td>...</td>\n",
       "      <td>-0.018218</td>\n",
       "      <td>-0.009877</td>\n",
       "      <td>-0.016672</td>\n",
       "      <td>-0.048245</td>\n",
       "      <td>-0.008532</td>\n",
       "      <td>-0.023020</td>\n",
       "      <td>1.000000</td>\n",
       "      <td>-0.064430</td>\n",
       "      <td>-0.015003</td>\n",
       "      <td>-0.004902</td>\n",
       "    </tr>\n",
       "    <tr>\n",
       "      <th>fuel-system_mpfi</th>\n",
       "      <td>-0.003328</td>\n",
       "      <td>0.146174</td>\n",
       "      <td>0.302574</td>\n",
       "      <td>-0.050041</td>\n",
       "      <td>0.035746</td>\n",
       "      <td>0.132429</td>\n",
       "      <td>0.435744</td>\n",
       "      <td>0.539874</td>\n",
       "      <td>0.527243</td>\n",
       "      <td>0.160501</td>\n",
       "      <td>...</td>\n",
       "      <td>0.282760</td>\n",
       "      <td>-0.059039</td>\n",
       "      <td>-0.219128</td>\n",
       "      <td>-0.634114</td>\n",
       "      <td>-0.112147</td>\n",
       "      <td>-0.302574</td>\n",
       "      <td>-0.064430</td>\n",
       "      <td>1.000000</td>\n",
       "      <td>-0.197195</td>\n",
       "      <td>-0.064430</td>\n",
       "    </tr>\n",
       "    <tr>\n",
       "      <th>fuel-system_spdi</th>\n",
       "      <td>0.168527</td>\n",
       "      <td>0.103538</td>\n",
       "      <td>0.070457</td>\n",
       "      <td>0.394703</td>\n",
       "      <td>-0.148565</td>\n",
       "      <td>-0.026114</td>\n",
       "      <td>-0.122071</td>\n",
       "      <td>-0.072252</td>\n",
       "      <td>-0.036689</td>\n",
       "      <td>-0.283251</td>\n",
       "      <td>...</td>\n",
       "      <td>-0.055759</td>\n",
       "      <td>-0.030229</td>\n",
       "      <td>-0.051026</td>\n",
       "      <td>-0.147658</td>\n",
       "      <td>-0.026114</td>\n",
       "      <td>-0.070457</td>\n",
       "      <td>-0.015003</td>\n",
       "      <td>-0.197195</td>\n",
       "      <td>1.000000</td>\n",
       "      <td>-0.015003</td>\n",
       "    </tr>\n",
       "    <tr>\n",
       "      <th>fuel-system_spfi</th>\n",
       "      <td>0.072626</td>\n",
       "      <td>-0.000595</td>\n",
       "      <td>0.023020</td>\n",
       "      <td>-0.032857</td>\n",
       "      <td>-0.079932</td>\n",
       "      <td>-0.008532</td>\n",
       "      <td>-0.023694</td>\n",
       "      <td>-0.004735</td>\n",
       "      <td>-0.024897</td>\n",
       "      <td>-0.072814</td>\n",
       "      <td>...</td>\n",
       "      <td>-0.018218</td>\n",
       "      <td>-0.009877</td>\n",
       "      <td>-0.016672</td>\n",
       "      <td>-0.048245</td>\n",
       "      <td>-0.008532</td>\n",
       "      <td>-0.023020</td>\n",
       "      <td>-0.004902</td>\n",
       "      <td>-0.064430</td>\n",
       "      <td>-0.015003</td>\n",
       "      <td>1.000000</td>\n",
       "    </tr>\n",
       "  </tbody>\n",
       "</table>\n",
       "<p>66 rows × 66 columns</p>\n",
       "</div>"
      ],
      "text/plain": [
       "                   symboling  normalized-losses  fuel-type  aspiration  \\\n",
       "symboling           1.000000           0.485062   0.209655   -0.076620   \n",
       "normalized-losses   0.485062           1.000000   0.105979   -0.001616   \n",
       "fuel-type           0.209655           0.105979   1.000000   -0.401397   \n",
       "aspiration         -0.076620          -0.001616  -0.401397    1.000000   \n",
       "num-of-doors       -0.677486          -0.382841  -0.188496    0.052803   \n",
       "...                      ...                ...        ...         ...   \n",
       "fuel-system_idi    -0.209655          -0.105979  -1.000000    0.401397   \n",
       "fuel-system_mfi     0.108634           0.064817   0.023020    0.149190   \n",
       "fuel-system_mpfi   -0.003328           0.146174   0.302574   -0.050041   \n",
       "fuel-system_spdi    0.168527           0.103538   0.070457    0.394703   \n",
       "fuel-system_spfi    0.072626          -0.000595   0.023020   -0.032857   \n",
       "\n",
       "                   num-of-doors  engine-location  wheel-base    length  \\\n",
       "symboling             -0.677486         0.189089   -0.537958 -0.396365   \n",
       "normalized-losses     -0.382841        -0.001035   -0.106478 -0.004229   \n",
       "fuel-type             -0.188496         0.040070   -0.276645 -0.193855   \n",
       "aspiration             0.052803        -0.057191    0.226742  0.246698   \n",
       "num-of-doors           1.000000        -0.139129    0.454213  0.368290   \n",
       "...                         ...              ...         ...       ...   \n",
       "fuel-system_idi        0.188496        -0.040070    0.276645  0.193855   \n",
       "fuel-system_mfi       -0.079932        -0.008532   -0.027248  0.001184   \n",
       "fuel-system_mpfi       0.035746         0.132429    0.435744  0.539874   \n",
       "fuel-system_spdi      -0.148565        -0.026114   -0.122071 -0.072252   \n",
       "fuel-system_spfi      -0.079932        -0.008532   -0.023694 -0.004735   \n",
       "\n",
       "                      width    height  ...  engine-type_ohcv  \\\n",
       "symboling         -0.253528 -0.523124  ...         -0.028091   \n",
       "normalized-losses  0.069225 -0.358708  ...          0.093161   \n",
       "fuel-type         -0.232309 -0.298162  ...          0.085556   \n",
       "aspiration         0.306270  0.108209  ...         -0.070070   \n",
       "num-of-doors       0.211484  0.539234  ...         -0.054764   \n",
       "...                     ...       ...  ...               ...   \n",
       "fuel-system_idi    0.232309  0.298162  ...         -0.085556   \n",
       "fuel-system_mfi    0.026675 -0.103597  ...         -0.018218   \n",
       "fuel-system_mpfi   0.527243  0.160501  ...          0.282760   \n",
       "fuel-system_spdi  -0.036689 -0.283251  ...         -0.055759   \n",
       "fuel-system_spfi  -0.024897 -0.072814  ...         -0.018218   \n",
       "\n",
       "                   engine-type_rotor  fuel-system_1bbl  fuel-system_2bbl  \\\n",
       "symboling                   0.218884         -0.036041          0.004550   \n",
       "normalized-losses           0.150966         -0.145799         -0.106764   \n",
       "fuel-type                   0.046383          0.078293          0.226565   \n",
       "aspiration                 -0.066203         -0.111748         -0.323378   \n",
       "num-of-doors               -0.161052         -0.097150          0.013769   \n",
       "...                              ...               ...               ...   \n",
       "fuel-system_idi            -0.046383         -0.078293         -0.226565   \n",
       "fuel-system_mfi            -0.009877         -0.016672         -0.048245   \n",
       "fuel-system_mpfi           -0.059039         -0.219128         -0.634114   \n",
       "fuel-system_spdi           -0.030229         -0.051026         -0.147658   \n",
       "fuel-system_spfi           -0.009877         -0.016672         -0.048245   \n",
       "\n",
       "                   fuel-system_4bbl  fuel-system_idi  fuel-system_mfi  \\\n",
       "symboling                  0.189089        -0.209655         0.108634   \n",
       "normalized-losses          0.130417        -0.105979         0.064817   \n",
       "fuel-type                  0.040070        -1.000000         0.023020   \n",
       "aspiration                -0.057191         0.401397         0.149190   \n",
       "num-of-doors              -0.139129         0.188496        -0.079932   \n",
       "...                             ...              ...              ...   \n",
       "fuel-system_idi           -0.040070         1.000000        -0.023020   \n",
       "fuel-system_mfi           -0.008532        -0.023020         1.000000   \n",
       "fuel-system_mpfi          -0.112147        -0.302574        -0.064430   \n",
       "fuel-system_spdi          -0.026114        -0.070457        -0.015003   \n",
       "fuel-system_spfi          -0.008532        -0.023020        -0.004902   \n",
       "\n",
       "                   fuel-system_mpfi  fuel-system_spdi  fuel-system_spfi  \n",
       "symboling                 -0.003328          0.168527          0.072626  \n",
       "normalized-losses          0.146174          0.103538         -0.000595  \n",
       "fuel-type                  0.302574          0.070457          0.023020  \n",
       "aspiration                -0.050041          0.394703         -0.032857  \n",
       "num-of-doors               0.035746         -0.148565         -0.079932  \n",
       "...                             ...               ...               ...  \n",
       "fuel-system_idi           -0.302574         -0.070457         -0.023020  \n",
       "fuel-system_mfi           -0.064430         -0.015003         -0.004902  \n",
       "fuel-system_mpfi           1.000000         -0.197195         -0.064430  \n",
       "fuel-system_spdi          -0.197195          1.000000         -0.015003  \n",
       "fuel-system_spfi          -0.064430         -0.015003          1.000000  \n",
       "\n",
       "[66 rows x 66 columns]"
      ]
     },
     "execution_count": 223,
     "metadata": {},
     "output_type": "execute_result"
    }
   ],
   "source": [
    "Spear_corr = df.corr(method= 'spearman')\n",
    "Spear_corr"
   ]
  },
  {
   "cell_type": "code",
   "execution_count": 230,
   "id": "c3abce56",
   "metadata": {},
   "outputs": [
    {
     "data": {
      "text/plain": [
       "<Axes: >"
      ]
     },
     "execution_count": 230,
     "metadata": {},
     "output_type": "execute_result"
    },
    {
     "data": {
      "image/png": "[encoded data removed]",
      "text/plain": [
       "<Figure size 2000x200 with 2 Axes>"
      ]
     },
     "metadata": {},
     "output_type": "display_data"
    }
   ],
   "source": [
    "df.columns\n",
    "col_list = ['symboling', 'normalized-losses', 'fuel-type', 'aspiration',\n",
    "       'num-of-doors', 'engine-location', 'wheel-base', 'length', 'width',\n",
    "       'height', 'curb-weight', 'num-of-cylinders', 'engine-size', 'bore','price']\n",
    "Spearman= df.loc[:,col_list].corr(method='spearman').tail(1)\n",
    "plt.figure(figsize=(20,2))\n",
    "sns.heatmap(Spearman,annot = True)"
   ]
  },
  {
   "cell_type": "markdown",
   "id": "3894ffba",
   "metadata": {},
   "source": [
    "# Comapring Pearson vs Spearman"
   ]
  },
  {
   "cell_type": "code",
   "execution_count": 232,
   "id": "b9fe0202",
   "metadata": {},
   "outputs": [
    {
     "data": {
      "text/plain": [
       "<Axes: >"
      ]
     },
     "execution_count": 232,
     "metadata": {},
     "output_type": "execute_result"
    },
    {
     "data": {
      "image/png": "[encoded data removed]",
      "text/plain": [
       "<Figure size 1500x200 with 2 Axes>"
      ]
     },
     "metadata": {},
     "output_type": "display_data"
    }
   ],
   "source": [
    "# PEARSON'S CORRELATION\n",
    "df.columns\n",
    "col_list = ['symboling', 'normalized-losses', 'fuel-type', 'aspiration',\n",
    "       'num-of-doors', 'engine-location', 'wheel-base', 'length', 'width',\n",
    "       'height', 'curb-weight', 'num-of-cylinders', 'engine-size', 'bore','price']\n",
    "corr = df.loc[:,col_list].corr().tail(1)\n",
    "plt.figure(figsize=(15,2))\n",
    "sns.heatmap(corr,annot = True)"
   ]
  },
  {
   "cell_type": "code",
   "execution_count": 231,
   "id": "9791749e",
   "metadata": {},
   "outputs": [
    {
     "data": {
      "text/plain": [
       "<Axes: >"
      ]
     },
     "execution_count": 231,
     "metadata": {},
     "output_type": "execute_result"
    },
    {
     "data": {
      "image/png": "[encoded data removed]",
      "text/plain": [
       "<Figure size 1500x200 with 2 Axes>"
      ]
     },
     "metadata": {},
     "output_type": "display_data"
    }
   ],
   "source": [
    "# SPEARMAN'S CORRELATION\n",
    "df.columns\n",
    "col_list = ['symboling', 'normalized-losses', 'fuel-type', 'aspiration',\n",
    "       'num-of-doors', 'engine-location', 'wheel-base', 'length', 'width',\n",
    "       'height', 'curb-weight', 'num-of-cylinders', 'engine-size', 'bore','price']\n",
    "Spearman= df.loc[:,col_list].corr(method='spearman').tail(1)\n",
    "plt.figure(figsize=(15,2))\n",
    "sns.heatmap(Spearman,annot = True)"
   ]
  },
  {
   "cell_type": "markdown",
   "id": "74b08d80",
   "metadata": {},
   "source": [
    "# Spearman Gives better Results"
   ]
  },
  {
   "cell_type": "markdown",
   "id": "e3b8e163",
   "metadata": {},
   "source": [
    "# Step 5. Feature Selection"
   ]
  },
  {
   "cell_type": "code",
   "execution_count": 105,
   "id": "a4e01b9e",
   "metadata": {},
   "outputs": [
    {
     "data": {
      "text/plain": [
       "(205, 66)"
      ]
     },
     "execution_count": 105,
     "metadata": {},
     "output_type": "execute_result"
    }
   ],
   "source": [
    "df.shape"
   ]
  },
  {
   "cell_type": "markdown",
   "id": "dd10ed2f",
   "metadata": {},
   "source": [
    "## Step 6. Model Training"
   ]
  },
  {
   "cell_type": "code",
   "execution_count": 106,
   "id": "2a76983d",
   "metadata": {},
   "outputs": [],
   "source": [
    "x = df.drop('price', axis=1)\n",
    "y = df['price']\n",
    "\n",
    "x_train,x_test, y_train, y_test = train_test_split(x,y, test_size=0.2, random_state=9)"
   ]
  },
  {
   "cell_type": "code",
   "execution_count": 107,
   "id": "9e3770a8",
   "metadata": {},
   "outputs": [
    {
     "data": {
      "text/plain": [
       "((164, 65), (164,), (41, 65), (41,))"
      ]
     },
     "execution_count": 107,
     "metadata": {},
     "output_type": "execute_result"
    }
   ],
   "source": [
    "x_train.shape,y_train.shape, x_test.shape, y_test.shape"
   ]
  },
  {
   "cell_type": "code",
   "execution_count": 108,
   "id": "9a8188f9",
   "metadata": {},
   "outputs": [
    {
     "data": {
      "text/html": [
       "<style>#sk-container-id-1 {color: black;background-color: white;}#sk-container-id-1 pre{padding: 0;}#sk-container-id-1 div.sk-toggleable {background-color: white;}#sk-container-id-1 label.sk-toggleable__label {cursor: pointer;display: block;width: 100%;margin-bottom: 0;padding: 0.3em;box-sizing: border-box;text-align: center;}#sk-container-id-1 label.sk-toggleable__label-arrow:before {content: \"▸\";float: left;margin-right: 0.25em;color: #696969;}#sk-container-id-1 label.sk-toggleable__label-arrow:hover:before {color: black;}#sk-container-id-1 div.sk-estimator:hover label.sk-toggleable__label-arrow:before {color: black;}#sk-container-id-1 div.sk-toggleable__content {max-height: 0;max-width: 0;overflow: hidden;text-align: left;background-color: #f0f8ff;}#sk-container-id-1 div.sk-toggleable__content pre {margin: 0.2em;color: black;border-radius: 0.25em;background-color: #f0f8ff;}#sk-container-id-1 input.sk-toggleable__control:checked~div.sk-toggleable__content {max-height: 200px;max-width: 100%;overflow: auto;}#sk-container-id-1 input.sk-toggleable__control:checked~label.sk-toggleable__label-arrow:before {content: \"▾\";}#sk-container-id-1 div.sk-estimator input.sk-toggleable__control:checked~label.sk-toggleable__label {background-color: #d4ebff;}#sk-container-id-1 div.sk-label input.sk-toggleable__control:checked~label.sk-toggleable__label {background-color: #d4ebff;}#sk-container-id-1 input.sk-hidden--visually {border: 0;clip: rect(1px 1px 1px 1px);clip: rect(1px, 1px, 1px, 1px);height: 1px;margin: -1px;overflow: hidden;padding: 0;position: absolute;width: 1px;}#sk-container-id-1 div.sk-estimator {font-family: monospace;background-color: #f0f8ff;border: 1px dotted black;border-radius: 0.25em;box-sizing: border-box;margin-bottom: 0.5em;}#sk-container-id-1 div.sk-estimator:hover {background-color: #d4ebff;}#sk-container-id-1 div.sk-parallel-item::after {content: \"\";width: 100%;border-bottom: 1px solid gray;flex-grow: 1;}#sk-container-id-1 div.sk-label:hover label.sk-toggleable__label {background-color: #d4ebff;}#sk-container-id-1 div.sk-serial::before {content: \"\";position: absolute;border-left: 1px solid gray;box-sizing: border-box;top: 0;bottom: 0;left: 50%;z-index: 0;}#sk-container-id-1 div.sk-serial {display: flex;flex-direction: column;align-items: center;background-color: white;padding-right: 0.2em;padding-left: 0.2em;position: relative;}#sk-container-id-1 div.sk-item {position: relative;z-index: 1;}#sk-container-id-1 div.sk-parallel {display: flex;align-items: stretch;justify-content: center;background-color: white;position: relative;}#sk-container-id-1 div.sk-item::before, #sk-container-id-1 div.sk-parallel-item::before {content: \"\";position: absolute;border-left: 1px solid gray;box-sizing: border-box;top: 0;bottom: 0;left: 50%;z-index: -1;}#sk-container-id-1 div.sk-parallel-item {display: flex;flex-direction: column;z-index: 1;position: relative;background-color: white;}#sk-container-id-1 div.sk-parallel-item:first-child::after {align-self: flex-end;width: 50%;}#sk-container-id-1 div.sk-parallel-item:last-child::after {align-self: flex-start;width: 50%;}#sk-container-id-1 div.sk-parallel-item:only-child::after {width: 0;}#sk-container-id-1 div.sk-dashed-wrapped {border: 1px dashed gray;margin: 0 0.4em 0.5em 0.4em;box-sizing: border-box;padding-bottom: 0.4em;background-color: white;}#sk-container-id-1 div.sk-label label {font-family: monospace;font-weight: bold;display: inline-block;line-height: 1.2em;}#sk-container-id-1 div.sk-label-container {text-align: center;}#sk-container-id-1 div.sk-container {/* jupyter's `normalize.less` sets `[hidden] { display: none; }` but bootstrap.min.css set `[hidden] { display: none !important; }` so we also need the `!important` here to be able to override the default hidden behavior on the sphinx rendered scikit-learn.org. See: https://github.com/scikit-learn/scikit-learn/issues/21755 */display: inline-block !important;position: relative;}#sk-container-id-1 div.sk-text-repr-fallback {display: none;}</style><div id=\"sk-container-id-1\" class=\"sk-top-container\"><div class=\"sk-text-repr-fallback\"><pre>LinearRegression()</pre><b>In a Jupyter environment, please rerun this cell to show the HTML representation or trust the notebook. <br />On GitHub, the HTML representation is unable to render, please try loading this page with nbviewer.org.</b></div><div class=\"sk-container\" hidden><div class=\"sk-item\"><div class=\"sk-estimator sk-toggleable\"><input class=\"sk-toggleable__control sk-hidden--visually\" id=\"sk-estimator-id-1\" type=\"checkbox\" checked><label for=\"sk-estimator-id-1\" class=\"sk-toggleable__label sk-toggleable__label-arrow\">LinearRegression</label><div class=\"sk-toggleable__content\"><pre>LinearRegression()</pre></div></div></div></div></div>"
      ],
      "text/plain": [
       "LinearRegression()"
      ]
     },
     "execution_count": 108,
     "metadata": {},
     "output_type": "execute_result"
    }
   ],
   "source": [
    "model = LinearRegression()\n",
    "model.fit(x_train,y_train)"
   ]
  },
  {
   "cell_type": "markdown",
   "id": "dd4c4296",
   "metadata": {},
   "source": [
    "# step 7. Model Evaluation"
   ]
  },
  {
   "cell_type": "code",
   "execution_count": 109,
   "id": "3929d8b3",
   "metadata": {},
   "outputs": [
    {
     "name": "stdout",
     "output_type": "stream",
     "text": [
      "MSE = 6758570.644676698\n",
      "RMSE = 2599.7251094445924\n",
      "MAE = 1606.8239637145414\n",
      "R-Squared Value = 0.8707661351557024\n"
     ]
    }
   ],
   "source": [
    "## Testing data model Evalaution \n",
    "\n",
    "y_pred = model.predict(x_test)\n",
    "\n",
    "mse = mean_squared_error(y_test,y_pred)\n",
    "print(f\"MSE = {mse}\")\n",
    "print(f\"RMSE = {np.sqrt(mse)}\")\n",
    "\n",
    "mae = mean_absolute_error(y_test,y_pred)\n",
    "print(f\"MAE = {mae}\")\n",
    "\n",
    "r2 = r2_score(y_test,y_pred)\n",
    "print(f\"R-Squared Value = {r2}\")\n",
    "\n"
   ]
  },
  {
   "cell_type": "code",
   "execution_count": 110,
   "id": "76297fab",
   "metadata": {},
   "outputs": [
    {
     "name": "stdout",
     "output_type": "stream",
     "text": [
      "MSE = 2384483.2670339695\n",
      "RMSE = 1544.1772136105265\n",
      "MAE = 1124.2848243006797\n",
      "R-Squared Value = 0.9625461518082329\n"
     ]
    }
   ],
   "source": [
    "## Training data model Evalaution \n",
    "\n",
    "y_pred = model.predict(x_train)\n",
    "\n",
    "mse = mean_squared_error(y_train,y_pred)\n",
    "print(f\"MSE = {mse}\")\n",
    "print(f\"RMSE = {np.sqrt(mse)}\")\n",
    "\n",
    "mae = mean_absolute_error(y_train,y_pred)\n",
    "print(f\"MAE = {mae}\")\n",
    "\n",
    "r2 = r2_score(y_train,y_pred)\n",
    "print(f\"R-Squared Value = {r2}\")\n",
    "\n"
   ]
  },
  {
   "cell_type": "raw",
   "id": "2bbf29ba",
   "metadata": {},
   "source": [
    "## Bias and variance Trade off \n",
    "\n",
    "Bias >> low Bias \n",
    "Variance >> low variance \n",
    "\n",
    "Generelaised / best model"
   ]
  },
  {
   "cell_type": "code",
   "execution_count": 112,
   "id": "e3c98ef0",
   "metadata": {},
   "outputs": [
    {
     "data": {
      "text/html": [
       "<style>#sk-container-id-2 {color: black;background-color: white;}#sk-container-id-2 pre{padding: 0;}#sk-container-id-2 div.sk-toggleable {background-color: white;}#sk-container-id-2 label.sk-toggleable__label {cursor: pointer;display: block;width: 100%;margin-bottom: 0;padding: 0.3em;box-sizing: border-box;text-align: center;}#sk-container-id-2 label.sk-toggleable__label-arrow:before {content: \"▸\";float: left;margin-right: 0.25em;color: #696969;}#sk-container-id-2 label.sk-toggleable__label-arrow:hover:before {color: black;}#sk-container-id-2 div.sk-estimator:hover label.sk-toggleable__label-arrow:before {color: black;}#sk-container-id-2 div.sk-toggleable__content {max-height: 0;max-width: 0;overflow: hidden;text-align: left;background-color: #f0f8ff;}#sk-container-id-2 div.sk-toggleable__content pre {margin: 0.2em;color: black;border-radius: 0.25em;background-color: #f0f8ff;}#sk-container-id-2 input.sk-toggleable__control:checked~div.sk-toggleable__content {max-height: 200px;max-width: 100%;overflow: auto;}#sk-container-id-2 input.sk-toggleable__control:checked~label.sk-toggleable__label-arrow:before {content: \"▾\";}#sk-container-id-2 div.sk-estimator input.sk-toggleable__control:checked~label.sk-toggleable__label {background-color: #d4ebff;}#sk-container-id-2 div.sk-label input.sk-toggleable__control:checked~label.sk-toggleable__label {background-color: #d4ebff;}#sk-container-id-2 input.sk-hidden--visually {border: 0;clip: rect(1px 1px 1px 1px);clip: rect(1px, 1px, 1px, 1px);height: 1px;margin: -1px;overflow: hidden;padding: 0;position: absolute;width: 1px;}#sk-container-id-2 div.sk-estimator {font-family: monospace;background-color: #f0f8ff;border: 1px dotted black;border-radius: 0.25em;box-sizing: border-box;margin-bottom: 0.5em;}#sk-container-id-2 div.sk-estimator:hover {background-color: #d4ebff;}#sk-container-id-2 div.sk-parallel-item::after {content: \"\";width: 100%;border-bottom: 1px solid gray;flex-grow: 1;}#sk-container-id-2 div.sk-label:hover label.sk-toggleable__label {background-color: #d4ebff;}#sk-container-id-2 div.sk-serial::before {content: \"\";position: absolute;border-left: 1px solid gray;box-sizing: border-box;top: 0;bottom: 0;left: 50%;z-index: 0;}#sk-container-id-2 div.sk-serial {display: flex;flex-direction: column;align-items: center;background-color: white;padding-right: 0.2em;padding-left: 0.2em;position: relative;}#sk-container-id-2 div.sk-item {position: relative;z-index: 1;}#sk-container-id-2 div.sk-parallel {display: flex;align-items: stretch;justify-content: center;background-color: white;position: relative;}#sk-container-id-2 div.sk-item::before, #sk-container-id-2 div.sk-parallel-item::before {content: \"\";position: absolute;border-left: 1px solid gray;box-sizing: border-box;top: 0;bottom: 0;left: 50%;z-index: -1;}#sk-container-id-2 div.sk-parallel-item {display: flex;flex-direction: column;z-index: 1;position: relative;background-color: white;}#sk-container-id-2 div.sk-parallel-item:first-child::after {align-self: flex-end;width: 50%;}#sk-container-id-2 div.sk-parallel-item:last-child::after {align-self: flex-start;width: 50%;}#sk-container-id-2 div.sk-parallel-item:only-child::after {width: 0;}#sk-container-id-2 div.sk-dashed-wrapped {border: 1px dashed gray;margin: 0 0.4em 0.5em 0.4em;box-sizing: border-box;padding-bottom: 0.4em;background-color: white;}#sk-container-id-2 div.sk-label label {font-family: monospace;font-weight: bold;display: inline-block;line-height: 1.2em;}#sk-container-id-2 div.sk-label-container {text-align: center;}#sk-container-id-2 div.sk-container {/* jupyter's `normalize.less` sets `[hidden] { display: none; }` but bootstrap.min.css set `[hidden] { display: none !important; }` so we also need the `!important` here to be able to override the default hidden behavior on the sphinx rendered scikit-learn.org. See: https://github.com/scikit-learn/scikit-learn/issues/21755 */display: inline-block !important;position: relative;}#sk-container-id-2 div.sk-text-repr-fallback {display: none;}</style><div id=\"sk-container-id-2\" class=\"sk-top-container\"><div class=\"sk-text-repr-fallback\"><pre>LinearRegression()</pre><b>In a Jupyter environment, please rerun this cell to show the HTML representation or trust the notebook. <br />On GitHub, the HTML representation is unable to render, please try loading this page with nbviewer.org.</b></div><div class=\"sk-container\" hidden><div class=\"sk-item\"><div class=\"sk-estimator sk-toggleable\"><input class=\"sk-toggleable__control sk-hidden--visually\" id=\"sk-estimator-id-2\" type=\"checkbox\" checked><label for=\"sk-estimator-id-2\" class=\"sk-toggleable__label sk-toggleable__label-arrow\">LinearRegression</label><div class=\"sk-toggleable__content\"><pre>LinearRegression()</pre></div></div></div></div></div>"
      ],
      "text/plain": [
       "LinearRegression()"
      ]
     },
     "execution_count": 112,
     "metadata": {},
     "output_type": "execute_result"
    }
   ],
   "source": [
    "model"
   ]
  },
  {
   "cell_type": "code",
   "execution_count": null,
   "id": "d81e98af",
   "metadata": {},
   "outputs": [],
   "source": [
    "### Save this model to pickle file"
   ]
  },
  {
   "cell_type": "code",
   "execution_count": 113,
   "id": "78daaf17",
   "metadata": {},
   "outputs": [],
   "source": [
    "with open('linear_model.pkl','wb') as file: \n",
    "    pickle.dump(model,file)"
   ]
  },
  {
   "cell_type": "markdown",
   "id": "587e0200",
   "metadata": {},
   "source": [
    "### User Defined Function "
   ]
  },
  {
   "cell_type": "code",
   "execution_count": null,
   "id": "f776aa62",
   "metadata": {},
   "outputs": [],
   "source": [
    "'symboling', 'normalized-losses', 'make', 'fuel-type', 'aspiration',\n",
    "'num-of-doors', 'body-style', 'drive-wheels', 'engine-location',\n",
    "'wheel-base', 'length', 'width', 'height', 'curb-weight', 'engine-type',\n",
    "'num-of-cylinders', 'engine-size', 'fuel-system', 'bore', 'stroke',\n",
    "'compression-ratio', 'horsepower', 'peak-rpm', 'city-mpg',\n",
    "'highway-mpg'\n",
    "\n",
    "\n",
    "data = [[]]\n",
    "\n",
    "price = model.predict(data)\n",
    "print(price)"
   ]
  },
  {
   "cell_type": "code",
   "execution_count": 119,
   "id": "370b5e4e",
   "metadata": {},
   "outputs": [
    {
     "data": {
      "text/plain": [
       "(1, 65)"
      ]
     },
     "execution_count": 119,
     "metadata": {},
     "output_type": "execute_result"
    }
   ],
   "source": [
    "data = x.tail(1)\n",
    "data.shape"
   ]
  },
  {
   "cell_type": "code",
   "execution_count": 120,
   "id": "55f416da",
   "metadata": {},
   "outputs": [
    {
     "data": {
      "text/plain": [
       "array([21162.07541256])"
      ]
     },
     "execution_count": 120,
     "metadata": {},
     "output_type": "execute_result"
    }
   ],
   "source": [
    "result = model.predict(data)\n",
    "result"
   ]
  },
  {
   "cell_type": "code",
   "execution_count": 122,
   "id": "4642698e",
   "metadata": {},
   "outputs": [
    {
     "data": {
      "text/plain": [
       "65"
      ]
     },
     "execution_count": 122,
     "metadata": {},
     "output_type": "execute_result"
    }
   ],
   "source": [
    "len(x.columns)"
   ]
  },
  {
   "cell_type": "code",
   "execution_count": 124,
   "id": "bde98cc8",
   "metadata": {},
   "outputs": [],
   "source": [
    "columns = {\"Column Names\":x.columns.tolist()}\n",
    "\n",
    "with open('columns_names.json','w') as file: \n",
    "    json.dump(columns,file)"
   ]
  },
  {
   "cell_type": "code",
   "execution_count": 143,
   "id": "af886dd8",
   "metadata": {},
   "outputs": [],
   "source": [
    "encoded_data = {\n",
    "    \"fuel_type\":{'gas': 1, 'diesel': 0},\n",
    "    \"aspiration\":{'std': 0, 'turbo': 1},\n",
    "    \"num_of_doors\":{'four': 4, 'two': 2},\n",
    "    \"engine_location\":{'front': 0, 'rear': 1},\n",
    "    \"num_of_cylinders\":{'four': 4,\n",
    "     'six': 6,\n",
    "     'five': 5,\n",
    "     'eight': 8,\n",
    "     'two': 2,\n",
    "     'three': 3,\n",
    "     'twelve': 12}\n",
    "}"
   ]
  },
  {
   "cell_type": "code",
   "execution_count": 144,
   "id": "a94423dc",
   "metadata": {},
   "outputs": [],
   "source": [
    "with open('encoded_data.json','w') as file: \n",
    "    json.dump(encoded_data,file)"
   ]
  },
  {
   "cell_type": "code",
   "execution_count": 131,
   "id": "133b2211",
   "metadata": {},
   "outputs": [
    {
     "data": {
      "text/plain": [
       "41"
      ]
     },
     "execution_count": 131,
     "metadata": {},
     "output_type": "execute_result"
    }
   ],
   "source": [
    "index = np.where(x.columns == 'make_volvo')[0][0]\n",
    "index"
   ]
  },
  {
   "cell_type": "code",
   "execution_count": 134,
   "id": "da17e7ea",
   "metadata": {},
   "outputs": [
    {
     "data": {
      "text/plain": [
       "204    1\n",
       "Name: make_volvo, dtype: uint8"
      ]
     },
     "execution_count": 134,
     "metadata": {},
     "output_type": "execute_result"
    }
   ],
   "source": [
    "data['make_volvo']"
   ]
  },
  {
   "cell_type": "code",
   "execution_count": 140,
   "id": "ce265375",
   "metadata": {},
   "outputs": [],
   "source": [
    "pd.options.display.max_columns = 70"
   ]
  },
  {
   "cell_type": "code",
   "execution_count": 145,
   "id": "6bedac0f",
   "metadata": {},
   "outputs": [
    {
     "data": {
      "text/html": [
       "<div>\n",
       "<style scoped>\n",
       "    .dataframe tbody tr th:only-of-type {\n",
       "        vertical-align: middle;\n",
       "    }\n",
       "\n",
       "    .dataframe tbody tr th {\n",
       "        vertical-align: top;\n",
       "    }\n",
       "\n",
       "    .dataframe thead th {\n",
       "        text-align: right;\n",
       "    }\n",
       "</style>\n",
       "<table border=\"1\" class=\"dataframe\">\n",
       "  <thead>\n",
       "    <tr style=\"text-align: right;\">\n",
       "      <th></th>\n",
       "      <th>symboling</th>\n",
       "      <th>normalized-losses</th>\n",
       "      <th>fuel-type</th>\n",
       "      <th>aspiration</th>\n",
       "      <th>num-of-doors</th>\n",
       "      <th>engine-location</th>\n",
       "      <th>wheel-base</th>\n",
       "      <th>length</th>\n",
       "      <th>width</th>\n",
       "      <th>height</th>\n",
       "      <th>curb-weight</th>\n",
       "      <th>num-of-cylinders</th>\n",
       "      <th>engine-size</th>\n",
       "      <th>bore</th>\n",
       "      <th>stroke</th>\n",
       "      <th>compression-ratio</th>\n",
       "      <th>horsepower</th>\n",
       "      <th>peak-rpm</th>\n",
       "      <th>city-mpg</th>\n",
       "      <th>highway-mpg</th>\n",
       "      <th>price</th>\n",
       "      <th>make_alfa-romero</th>\n",
       "      <th>make_audi</th>\n",
       "      <th>make_bmw</th>\n",
       "      <th>make_chevrolet</th>\n",
       "      <th>make_dodge</th>\n",
       "      <th>make_honda</th>\n",
       "      <th>make_isuzu</th>\n",
       "      <th>make_jaguar</th>\n",
       "      <th>make_mazda</th>\n",
       "      <th>make_mercedes-benz</th>\n",
       "      <th>make_mercury</th>\n",
       "      <th>make_mitsubishi</th>\n",
       "      <th>make_nissan</th>\n",
       "      <th>make_peugot</th>\n",
       "      <th>make_plymouth</th>\n",
       "      <th>make_porsche</th>\n",
       "      <th>make_renault</th>\n",
       "      <th>make_saab</th>\n",
       "      <th>make_subaru</th>\n",
       "      <th>make_toyota</th>\n",
       "      <th>make_volkswagen</th>\n",
       "      <th>make_volvo</th>\n",
       "      <th>body-style_convertible</th>\n",
       "      <th>body-style_hardtop</th>\n",
       "      <th>body-style_hatchback</th>\n",
       "      <th>body-style_sedan</th>\n",
       "      <th>body-style_wagon</th>\n",
       "      <th>drive-wheels_4wd</th>\n",
       "      <th>drive-wheels_fwd</th>\n",
       "      <th>drive-wheels_rwd</th>\n",
       "      <th>engine-type_dohc</th>\n",
       "      <th>engine-type_dohcv</th>\n",
       "      <th>engine-type_l</th>\n",
       "      <th>engine-type_ohc</th>\n",
       "      <th>engine-type_ohcf</th>\n",
       "      <th>engine-type_ohcv</th>\n",
       "      <th>engine-type_rotor</th>\n",
       "      <th>fuel-system_1bbl</th>\n",
       "      <th>fuel-system_2bbl</th>\n",
       "      <th>fuel-system_4bbl</th>\n",
       "      <th>fuel-system_idi</th>\n",
       "      <th>fuel-system_mfi</th>\n",
       "      <th>fuel-system_mpfi</th>\n",
       "      <th>fuel-system_spdi</th>\n",
       "      <th>fuel-system_spfi</th>\n",
       "    </tr>\n",
       "  </thead>\n",
       "  <tbody>\n",
       "    <tr>\n",
       "      <th>204</th>\n",
       "      <td>-1</td>\n",
       "      <td>95</td>\n",
       "      <td>1</td>\n",
       "      <td>1</td>\n",
       "      <td>4</td>\n",
       "      <td>0</td>\n",
       "      <td>109.1</td>\n",
       "      <td>188.8</td>\n",
       "      <td>68.9</td>\n",
       "      <td>55.5</td>\n",
       "      <td>3062</td>\n",
       "      <td>4</td>\n",
       "      <td>141</td>\n",
       "      <td>3.78</td>\n",
       "      <td>3.15</td>\n",
       "      <td>9.5</td>\n",
       "      <td>114</td>\n",
       "      <td>5400</td>\n",
       "      <td>19</td>\n",
       "      <td>25</td>\n",
       "      <td>22625</td>\n",
       "      <td>0</td>\n",
       "      <td>0</td>\n",
       "      <td>0</td>\n",
       "      <td>0</td>\n",
       "      <td>0</td>\n",
       "      <td>0</td>\n",
       "      <td>0</td>\n",
       "      <td>0</td>\n",
       "      <td>0</td>\n",
       "      <td>0</td>\n",
       "      <td>0</td>\n",
       "      <td>0</td>\n",
       "      <td>0</td>\n",
       "      <td>0</td>\n",
       "      <td>0</td>\n",
       "      <td>0</td>\n",
       "      <td>0</td>\n",
       "      <td>0</td>\n",
       "      <td>0</td>\n",
       "      <td>0</td>\n",
       "      <td>0</td>\n",
       "      <td>1</td>\n",
       "      <td>0</td>\n",
       "      <td>0</td>\n",
       "      <td>0</td>\n",
       "      <td>1</td>\n",
       "      <td>0</td>\n",
       "      <td>0</td>\n",
       "      <td>0</td>\n",
       "      <td>1</td>\n",
       "      <td>0</td>\n",
       "      <td>0</td>\n",
       "      <td>0</td>\n",
       "      <td>1</td>\n",
       "      <td>0</td>\n",
       "      <td>0</td>\n",
       "      <td>0</td>\n",
       "      <td>0</td>\n",
       "      <td>0</td>\n",
       "      <td>0</td>\n",
       "      <td>0</td>\n",
       "      <td>0</td>\n",
       "      <td>1</td>\n",
       "      <td>0</td>\n",
       "      <td>0</td>\n",
       "    </tr>\n",
       "  </tbody>\n",
       "</table>\n",
       "</div>"
      ],
      "text/plain": [
       "     symboling  normalized-losses  fuel-type  aspiration  num-of-doors  \\\n",
       "204         -1                 95          1           1             4   \n",
       "\n",
       "     engine-location  wheel-base  length  width  height  curb-weight  \\\n",
       "204                0       109.1   188.8   68.9    55.5         3062   \n",
       "\n",
       "     num-of-cylinders  engine-size  bore  stroke  compression-ratio  \\\n",
       "204                 4          141  3.78    3.15                9.5   \n",
       "\n",
       "     horsepower  peak-rpm  city-mpg  highway-mpg  price  make_alfa-romero  \\\n",
       "204         114      5400        19           25  22625                 0   \n",
       "\n",
       "     make_audi  make_bmw  make_chevrolet  make_dodge  make_honda  make_isuzu  \\\n",
       "204          0         0               0           0           0           0   \n",
       "\n",
       "     make_jaguar  make_mazda  make_mercedes-benz  make_mercury  \\\n",
       "204            0           0                   0             0   \n",
       "\n",
       "     make_mitsubishi  make_nissan  make_peugot  make_plymouth  make_porsche  \\\n",
       "204                0            0            0              0             0   \n",
       "\n",
       "     make_renault  make_saab  make_subaru  make_toyota  make_volkswagen  \\\n",
       "204             0          0            0            0                0   \n",
       "\n",
       "     make_volvo  body-style_convertible  body-style_hardtop  \\\n",
       "204           1                       0                   0   \n",
       "\n",
       "     body-style_hatchback  body-style_sedan  body-style_wagon  \\\n",
       "204                     0                 1                 0   \n",
       "\n",
       "     drive-wheels_4wd  drive-wheels_fwd  drive-wheels_rwd  engine-type_dohc  \\\n",
       "204                 0                 0                 1                 0   \n",
       "\n",
       "     engine-type_dohcv  engine-type_l  engine-type_ohc  engine-type_ohcf  \\\n",
       "204                  0              0                1                 0   \n",
       "\n",
       "     engine-type_ohcv  engine-type_rotor  fuel-system_1bbl  fuel-system_2bbl  \\\n",
       "204                 0                  0                 0                 0   \n",
       "\n",
       "     fuel-system_4bbl  fuel-system_idi  fuel-system_mfi  fuel-system_mpfi  \\\n",
       "204                 0                0                0                 1   \n",
       "\n",
       "     fuel-system_spdi  fuel-system_spfi  \n",
       "204                 0                 0  "
      ]
     },
     "execution_count": 145,
     "metadata": {},
     "output_type": "execute_result"
    }
   ],
   "source": [
    "df.tail(1)"
   ]
  },
  {
   "cell_type": "code",
   "execution_count": null,
   "id": "5412a9e3",
   "metadata": {},
   "outputs": [],
   "source": []
  }
 ],
 "metadata": {
  "kernelspec": {
   "display_name": "Python 3 (ipykernel)",
   "language": "python",
   "name": "python3"
  },
  "language_info": {
   "codemirror_mode": {
    "name": "ipython",
    "version": 3
   },
   "file_extension": ".py",
   "mimetype": "text/x-python",
   "name": "python",
   "nbconvert_exporter": "python",
   "pygments_lexer": "ipython3",
   "version": "3.11.5"
  }
 },
 "nbformat": 4,
 "nbformat_minor": 5
}
